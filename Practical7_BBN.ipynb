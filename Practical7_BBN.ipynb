{
  "nbformat": 4,
  "nbformat_minor": 0,
  "metadata": {
    "colab": {
      "name": "Practical7_BBN.ipynb",
      "provenance": [],
      "collapsed_sections": [],
      "authorship_tag": "ABX9TyPQORlqZhhOOKBSs4iuPUTF",
      "include_colab_link": true
    },
    "kernelspec": {
      "name": "python3",
      "display_name": "Python 3"
    }
  },
  "cells": [
    {
      "cell_type": "markdown",
      "metadata": {
        "id": "view-in-github",
        "colab_type": "text"
      },
      "source": [
        "<a href=\"https://colab.research.google.com/github/poojan14/AML-Practicals/blob/master/Practical7_BBN.ipynb\" target=\"_parent\"><img src=\"https://colab.research.google.com/assets/colab-badge.svg\" alt=\"Open In Colab\"/></a>"
      ]
    },
    {
      "cell_type": "markdown",
      "metadata": {
        "id": "pMS1sVSn8H-a",
        "colab_type": "text"
      },
      "source": [
        "**Implementation of Bayesian Belief Network.**"
      ]
    },
    {
      "cell_type": "markdown",
      "metadata": {
        "id": "dGWnYRHS8TGy",
        "colab_type": "text"
      },
      "source": [
        "Bayesian networks are a powerful inference tool, in which a set of variables are represented as nodes, and the lack of an edge represents a conditional independence statement between the two variables, and an edge represents a dependence between the two variables. One of the powerful components of a Bayesian network is the ability to infer the values of certain variables, given observed values for another set of variables."
      ]
    },
    {
      "cell_type": "code",
      "metadata": {
        "id": "SL5qB7OI7_te",
        "colab_type": "code",
        "colab": {
          "base_uri": "https://localhost:8080/",
          "height": 309
        },
        "outputId": "c07ebefd-50e3-4949-a996-cc4b557ac9e4"
      },
      "source": [
        "!pip install pomegranate"
      ],
      "execution_count": 1,
      "outputs": [
        {
          "output_type": "stream",
          "text": [
            "Collecting pomegranate\n",
            "\u001b[?25l  Downloading https://files.pythonhosted.org/packages/2e/a7/391a9604b03063b69f20e4e18c49dcfed2a0ebe0b87004de728aa86b86d1/pomegranate-0.13.0.tar.gz (3.3MB)\n",
            "\u001b[K     |████████████████████████████████| 3.3MB 2.8MB/s \n",
            "\u001b[?25hRequirement already satisfied: numpy>=1.8.0 in /usr/local/lib/python3.6/dist-packages (from pomegranate) (1.18.4)\n",
            "Requirement already satisfied: joblib>=0.9.0b4 in /usr/local/lib/python3.6/dist-packages (from pomegranate) (0.15.1)\n",
            "Requirement already satisfied: networkx>=2.0 in /usr/local/lib/python3.6/dist-packages (from pomegranate) (2.4)\n",
            "Requirement already satisfied: scipy>=0.17.0 in /usr/local/lib/python3.6/dist-packages (from pomegranate) (1.4.1)\n",
            "Requirement already satisfied: pyyaml in /usr/local/lib/python3.6/dist-packages (from pomegranate) (3.13)\n",
            "Requirement already satisfied: decorator>=4.3.0 in /usr/local/lib/python3.6/dist-packages (from networkx>=2.0->pomegranate) (4.4.2)\n",
            "Building wheels for collected packages: pomegranate\n",
            "  Building wheel for pomegranate (setup.py) ... \u001b[?25l\u001b[?25hdone\n",
            "  Created wheel for pomegranate: filename=pomegranate-0.13.0-cp36-cp36m-linux_x86_64.whl size=10888117 sha256=1375a8e4143724c760883374385b4c3056ecd445ae5f68da86bc7def38ad5e62\n",
            "  Stored in directory: /root/.cache/pip/wheels/f4/b0/21/635932e79ad11c419b90b074ffaf90c04bfaecf134e66c3a06\n",
            "Successfully built pomegranate\n",
            "Installing collected packages: pomegranate\n",
            "Successfully installed pomegranate-0.13.0\n"
          ],
          "name": "stdout"
        }
      ]
    },
    {
      "cell_type": "code",
      "metadata": {
        "id": "gQWsSUT7AIsK",
        "colab_type": "code",
        "colab": {
          "base_uri": "https://localhost:8080/",
          "height": 306
        },
        "outputId": "20e551d0-ba70-4b78-86e6-b203f41c56ae"
      },
      "source": [
        "!pip install watermark"
      ],
      "execution_count": 3,
      "outputs": [
        {
          "output_type": "stream",
          "text": [
            "Collecting watermark\n",
            "  Downloading https://files.pythonhosted.org/packages/60/fe/3ed83b6122e70dce6fe269dfd763103c333f168bf91037add73ea4fe81c2/watermark-2.0.2-py2.py3-none-any.whl\n",
            "Requirement already satisfied: ipython in /usr/local/lib/python3.6/dist-packages (from watermark) (5.5.0)\n",
            "Requirement already satisfied: traitlets>=4.2 in /usr/local/lib/python3.6/dist-packages (from ipython->watermark) (4.3.3)\n",
            "Requirement already satisfied: simplegeneric>0.8 in /usr/local/lib/python3.6/dist-packages (from ipython->watermark) (0.8.1)\n",
            "Requirement already satisfied: prompt-toolkit<2.0.0,>=1.0.4 in /usr/local/lib/python3.6/dist-packages (from ipython->watermark) (1.0.18)\n",
            "Requirement already satisfied: decorator in /usr/local/lib/python3.6/dist-packages (from ipython->watermark) (4.4.2)\n",
            "Requirement already satisfied: pexpect; sys_platform != \"win32\" in /usr/local/lib/python3.6/dist-packages (from ipython->watermark) (4.8.0)\n",
            "Requirement already satisfied: pickleshare in /usr/local/lib/python3.6/dist-packages (from ipython->watermark) (0.7.5)\n",
            "Requirement already satisfied: pygments in /usr/local/lib/python3.6/dist-packages (from ipython->watermark) (2.1.3)\n",
            "Requirement already satisfied: setuptools>=18.5 in /usr/local/lib/python3.6/dist-packages (from ipython->watermark) (46.3.0)\n",
            "Requirement already satisfied: six in /usr/local/lib/python3.6/dist-packages (from traitlets>=4.2->ipython->watermark) (1.12.0)\n",
            "Requirement already satisfied: ipython-genutils in /usr/local/lib/python3.6/dist-packages (from traitlets>=4.2->ipython->watermark) (0.2.0)\n",
            "Requirement already satisfied: wcwidth in /usr/local/lib/python3.6/dist-packages (from prompt-toolkit<2.0.0,>=1.0.4->ipython->watermark) (0.1.9)\n",
            "Requirement already satisfied: ptyprocess>=0.5 in /usr/local/lib/python3.6/dist-packages (from pexpect; sys_platform != \"win32\"->ipython->watermark) (0.6.0)\n",
            "Installing collected packages: watermark\n",
            "Successfully installed watermark-2.0.2\n"
          ],
          "name": "stdout"
        }
      ]
    },
    {
      "cell_type": "code",
      "metadata": {
        "id": "-wb6UGjJ8Xxy",
        "colab_type": "code",
        "colab": {
          "base_uri": "https://localhost:8080/",
          "height": 238
        },
        "outputId": "1b26e227-ec55-4dae-9824-eddae5088a79"
      },
      "source": [
        "%matplotlib inline\n",
        "import matplotlib.pyplot as plt\n",
        "import seaborn; seaborn.set_style('whitegrid')\n",
        "import numpy\n",
        "\n",
        "from pomegranate import *\n",
        "\n",
        "numpy.random.seed(0)\n",
        "numpy.set_printoptions(suppress=True)\n",
        "\n",
        "%load_ext watermark\n",
        "%watermark -m -n -p numpy,scipy,pomegranate"
      ],
      "execution_count": 4,
      "outputs": [
        {
          "output_type": "stream",
          "text": [
            "Fri May 22 2020 \n",
            "\n",
            "numpy 1.18.4\n",
            "scipy 1.4.1\n",
            "pomegranate 0.13.0\n",
            "\n",
            "compiler   : GCC 8.4.0\n",
            "system     : Linux\n",
            "release    : 4.19.104+\n",
            "machine    : x86_64\n",
            "processor  : x86_64\n",
            "CPU cores  : 2\n",
            "interpreter: 64bit\n"
          ],
          "name": "stdout"
        }
      ]
    },
    {
      "cell_type": "markdown",
      "metadata": {
        "id": "SwcAL7bS9WRm",
        "colab_type": "text"
      },
      "source": [
        "**Monty Hall Problem**"
      ]
    },
    {
      "cell_type": "markdown",
      "metadata": {
        "id": "sFxWR-Zj9wIs",
        "colab_type": "text"
      },
      "source": [
        "To create the Bayesian network in pomegranate, we first create the distributions which live in each node in the graph. For a discrete (aka categorical) bayesian network we use DiscreteDistribution objects for the root nodes and ConditionalProbabilityTable objects for the inner and leaf nodes. The columns in a ConditionalProbabilityTable correspond to the order in which the parents (the second argument) are specified, and the last column is the value the ConditionalProbabilityTable itself takes. In the case below, the first column corresponds to the value 'guest' takes, then the value 'prize' takes, and then the value that 'monty' takes. 'B', 'C', 'A' refers then to the probability that Monty reveals door 'A' given that the guest has chosen door 'B' and that the prize is actually behind door 'C', or P(Monty='A'|Guest='B', Prize='C')."
      ]
    },
    {
      "cell_type": "code",
      "metadata": {
        "id": "IB0SP-2Y8Yde",
        "colab_type": "code",
        "colab": {}
      },
      "source": [
        "# The guests initial door selection is completely random\n",
        "guest = DiscreteDistribution({'A': 1./3, 'B': 1./3, 'C': 1./3})\n",
        "\n",
        "# The door the prize is behind is also completely random\n",
        "prize = DiscreteDistribution({'A': 1./3, 'B': 1./3, 'C': 1./3})\n",
        "\n",
        "    # Monty is dependent on both the guest and the prize. \n",
        "monty = ConditionalProbabilityTable(\n",
        "        [[ 'A', 'A', 'A', 0.0 ],\n",
        "         [ 'A', 'A', 'B', 0.5 ],\n",
        "         [ 'A', 'A', 'C', 0.5 ],\n",
        "         [ 'A', 'B', 'A', 0.0 ],\n",
        "         [ 'A', 'B', 'B', 0.0 ],\n",
        "         [ 'A', 'B', 'C', 1.0 ],\n",
        "         [ 'A', 'C', 'A', 0.0 ],\n",
        "         [ 'A', 'C', 'B', 1.0 ],\n",
        "         [ 'A', 'C', 'C', 0.0 ],\n",
        "         [ 'B', 'A', 'A', 0.0 ],\n",
        "         [ 'B', 'A', 'B', 0.0 ],\n",
        "         [ 'B', 'A', 'C', 1.0 ],\n",
        "         [ 'B', 'B', 'A', 0.5 ],\n",
        "         [ 'B', 'B', 'B', 0.0 ],\n",
        "         [ 'B', 'B', 'C', 0.5 ],\n",
        "         [ 'B', 'C', 'A', 1.0 ],\n",
        "         [ 'B', 'C', 'B', 0.0 ],\n",
        "         [ 'B', 'C', 'C', 0.0 ],\n",
        "         [ 'C', 'A', 'A', 0.0 ],\n",
        "         [ 'C', 'A', 'B', 1.0 ],\n",
        "         [ 'C', 'A', 'C', 0.0 ],\n",
        "         [ 'C', 'B', 'A', 1.0 ],\n",
        "         [ 'C', 'B', 'B', 0.0 ],\n",
        "         [ 'C', 'B', 'C', 0.0 ],\n",
        "         [ 'C', 'C', 'A', 0.5 ],\n",
        "         [ 'C', 'C', 'B', 0.5 ],\n",
        "         [ 'C', 'C', 'C', 0.0 ]], [guest, prize])  "
      ],
      "execution_count": 0,
      "outputs": []
    },
    {
      "cell_type": "markdown",
      "metadata": {
        "id": "h7TVKGJ598Rv",
        "colab_type": "text"
      },
      "source": [
        "Next, we pass these distributions into state objects along with the name for \n",
        "the node."
      ]
    },
    {
      "cell_type": "code",
      "metadata": {
        "id": "uHDFY2YY8Y9z",
        "colab_type": "code",
        "colab": {}
      },
      "source": [
        "# State objects hold both the distribution, and a high level name.\n",
        "s1 = State(guest, name=\"guest\")\n",
        "s2 = State(prize, name=\"prize\")\n",
        "s3 = State(monty, name=\"monty\")"
      ],
      "execution_count": 0,
      "outputs": []
    },
    {
      "cell_type": "code",
      "metadata": {
        "id": "bmit3AtB8ZZ7",
        "colab_type": "code",
        "colab": {}
      },
      "source": [
        "# Create the Bayesian network object with a useful name\n",
        "model = BayesianNetwork(\"Monty Hall Problem\")\n",
        "\n",
        "# Add the three states to the network \n",
        "model.add_states(s1, s2, s3)"
      ],
      "execution_count": 0,
      "outputs": []
    },
    {
      "cell_type": "markdown",
      "metadata": {
        "id": "vPiTQ7rZ-Nr0",
        "colab_type": "text"
      },
      "source": [
        "The edges represent which states are parents of which other states. This is currently a bit redundant with passing in the distribution objects that are parents for each ConditionalProbabilityTable. For now edges are added from parent -> child by calling `model.add_edge(parent, child)`."
      ]
    },
    {
      "cell_type": "code",
      "metadata": {
        "id": "hjW1B09R8Z2g",
        "colab_type": "code",
        "colab": {}
      },
      "source": [
        "# Add edges which represent conditional dependencies, where the second node is \n",
        "# conditionally dependent on the first node (Monty is dependent on both guest and prize)\n",
        "model.add_edge(s1, s3)\n",
        "model.add_edge(s2, s3)"
      ],
      "execution_count": 0,
      "outputs": []
    },
    {
      "cell_type": "markdown",
      "metadata": {
        "id": "uFS206kD-Wz-",
        "colab_type": "text"
      },
      "source": [
        "Lastly, the model must be baked to finalize the internals. Since Bayesian networks use factor graphs for inference, an explicit factor graph is produced from the Bayesian network during the bake step."
      ]
    },
    {
      "cell_type": "code",
      "metadata": {
        "id": "0t-w3VpG8aQ7",
        "colab_type": "code",
        "colab": {}
      },
      "source": [
        "model.bake()"
      ],
      "execution_count": 0,
      "outputs": []
    },
    {
      "cell_type": "markdown",
      "metadata": {
        "id": "UNZjckt3-lqz",
        "colab_type": "text"
      },
      "source": [
        "**Predicting Probabilities**\n",
        "\n",
        "We can calculate probabilities of a sample under the Bayesian network in the same way that we can calculate probabilities under other models. In this case, let's calculate the probability that you initially said door A, that Monty then opened door B, but that the actual car was behind door C."
      ]
    },
    {
      "cell_type": "code",
      "metadata": {
        "id": "Nw69WmVy8w7q",
        "colab_type": "code",
        "colab": {
          "base_uri": "https://localhost:8080/",
          "height": 34
        },
        "outputId": "67762bb7-c229-473c-ef72-b3f1f8ecc932"
      },
      "source": [
        "model.probability([['A', 'B', 'C']])"
      ],
      "execution_count": 10,
      "outputs": [
        {
          "output_type": "execute_result",
          "data": {
            "text/plain": [
              "0.11111111111111109"
            ]
          },
          "metadata": {
            "tags": []
          },
          "execution_count": 10
        }
      ]
    },
    {
      "cell_type": "markdown",
      "metadata": {
        "id": "jaWWNJB1-vo7",
        "colab_type": "text"
      },
      "source": [
        "That seems in line with what we know, that there is a 1/9th probability of that happening. \n",
        "\n",
        "Next, let's look at an impossible situation. What is the probability of initially saying door A, that Monty opened door B, and that the car was actually behind door B."
      ]
    },
    {
      "cell_type": "code",
      "metadata": {
        "id": "vWiCsGOg8xau",
        "colab_type": "code",
        "colab": {
          "base_uri": "https://localhost:8080/",
          "height": 34
        },
        "outputId": "a48709e2-7823-4b63-9e8e-a33e0e92f5f4"
      },
      "source": [
        "model.probability([['A', 'B', 'B']])"
      ],
      "execution_count": 11,
      "outputs": [
        {
          "output_type": "execute_result",
          "data": {
            "text/plain": [
              "0.0"
            ]
          },
          "metadata": {
            "tags": []
          },
          "execution_count": 11
        }
      ]
    },
    {
      "cell_type": "markdown",
      "metadata": {
        "id": "V1ciaFy9-1se",
        "colab_type": "text"
      },
      "source": [
        "The reason that situation is impossible is because Monty can't open a door that has the car behind it."
      ]
    },
    {
      "cell_type": "code",
      "metadata": {
        "id": "JpsCTqbd8yBl",
        "colab_type": "code",
        "colab": {
          "base_uri": "https://localhost:8080/",
          "height": 680
        },
        "outputId": "90e76ef7-a1e6-4181-c949-864f1bc07434"
      },
      "source": [
        "model.predict_proba({})"
      ],
      "execution_count": 12,
      "outputs": [
        {
          "output_type": "execute_result",
          "data": {
            "text/plain": [
              "array([{\n",
              "    \"class\" :\"Distribution\",\n",
              "    \"dtype\" :\"str\",\n",
              "    \"name\" :\"DiscreteDistribution\",\n",
              "    \"parameters\" :[\n",
              "        {\n",
              "            \"A\" :0.33333333333333337,\n",
              "            \"B\" :0.33333333333333337,\n",
              "            \"C\" :0.33333333333333337\n",
              "        }\n",
              "    ],\n",
              "    \"frozen\" :false\n",
              "},\n",
              "       {\n",
              "    \"class\" :\"Distribution\",\n",
              "    \"dtype\" :\"str\",\n",
              "    \"name\" :\"DiscreteDistribution\",\n",
              "    \"parameters\" :[\n",
              "        {\n",
              "            \"A\" :0.33333333333333337,\n",
              "            \"B\" :0.33333333333333337,\n",
              "            \"C\" :0.33333333333333337\n",
              "        }\n",
              "    ],\n",
              "    \"frozen\" :false\n",
              "},\n",
              "       {\n",
              "    \"class\" :\"Distribution\",\n",
              "    \"dtype\" :\"str\",\n",
              "    \"name\" :\"DiscreteDistribution\",\n",
              "    \"parameters\" :[\n",
              "        {\n",
              "            \"B\" :0.3333333333333333,\n",
              "            \"A\" :0.3333333333333333,\n",
              "            \"C\" :0.3333333333333333\n",
              "        }\n",
              "    ],\n",
              "    \"frozen\" :false\n",
              "}], dtype=object)"
            ]
          },
          "metadata": {
            "tags": []
          },
          "execution_count": 12
        }
      ]
    },
    {
      "cell_type": "code",
      "metadata": {
        "id": "HWG3UN6p9DoJ",
        "colab_type": "code",
        "colab": {
          "base_uri": "https://localhost:8080/",
          "height": 680
        },
        "outputId": "5d9f22fc-e650-46c9-e11f-6af8edb17d72"
      },
      "source": [
        "model.predict_proba([[None, None, None]])"
      ],
      "execution_count": 13,
      "outputs": [
        {
          "output_type": "execute_result",
          "data": {
            "text/plain": [
              "[array([{\n",
              "     \"class\" :\"Distribution\",\n",
              "     \"dtype\" :\"str\",\n",
              "     \"name\" :\"DiscreteDistribution\",\n",
              "     \"parameters\" :[\n",
              "         {\n",
              "             \"A\" :0.33333333333333337,\n",
              "             \"B\" :0.33333333333333337,\n",
              "             \"C\" :0.33333333333333337\n",
              "         }\n",
              "     ],\n",
              "     \"frozen\" :false\n",
              " },\n",
              "        {\n",
              "     \"class\" :\"Distribution\",\n",
              "     \"dtype\" :\"str\",\n",
              "     \"name\" :\"DiscreteDistribution\",\n",
              "     \"parameters\" :[\n",
              "         {\n",
              "             \"A\" :0.33333333333333337,\n",
              "             \"B\" :0.33333333333333337,\n",
              "             \"C\" :0.33333333333333337\n",
              "         }\n",
              "     ],\n",
              "     \"frozen\" :false\n",
              " },\n",
              "        {\n",
              "     \"class\" :\"Distribution\",\n",
              "     \"dtype\" :\"str\",\n",
              "     \"name\" :\"DiscreteDistribution\",\n",
              "     \"parameters\" :[\n",
              "         {\n",
              "             \"B\" :0.3333333333333333,\n",
              "             \"A\" :0.3333333333333333,\n",
              "             \"C\" :0.3333333333333333\n",
              "         }\n",
              "     ],\n",
              "     \"frozen\" :false\n",
              " }], dtype=object)]"
            ]
          },
          "metadata": {
            "tags": []
          },
          "execution_count": 13
        }
      ]
    },
    {
      "cell_type": "code",
      "metadata": {
        "id": "9K5nUxZf9IHy",
        "colab_type": "code",
        "colab": {
          "base_uri": "https://localhost:8080/",
          "height": 476
        },
        "outputId": "43c0573f-9f09-4e47-80ce-8fe12d327f34"
      },
      "source": [
        "model.predict_proba([['A', None, None]])"
      ],
      "execution_count": 14,
      "outputs": [
        {
          "output_type": "execute_result",
          "data": {
            "text/plain": [
              "[array(['A',\n",
              "        {\n",
              "     \"class\" :\"Distribution\",\n",
              "     \"dtype\" :\"str\",\n",
              "     \"name\" :\"DiscreteDistribution\",\n",
              "     \"parameters\" :[\n",
              "         {\n",
              "             \"A\" :0.3333333333333333,\n",
              "             \"B\" :0.3333333333333333,\n",
              "             \"C\" :0.3333333333333333\n",
              "         }\n",
              "     ],\n",
              "     \"frozen\" :false\n",
              " },\n",
              "        {\n",
              "     \"class\" :\"Distribution\",\n",
              "     \"dtype\" :\"str\",\n",
              "     \"name\" :\"DiscreteDistribution\",\n",
              "     \"parameters\" :[\n",
              "         {\n",
              "             \"B\" :0.49999999999999983,\n",
              "             \"A\" :0.0,\n",
              "             \"C\" :0.49999999999999983\n",
              "         }\n",
              "     ],\n",
              "     \"frozen\" :false\n",
              " }], dtype=object)]"
            ]
          },
          "metadata": {
            "tags": []
          },
          "execution_count": 14
        }
      ]
    },
    {
      "cell_type": "markdown",
      "metadata": {
        "id": "U_kuqSBn_HVR",
        "colab_type": "text"
      },
      "source": [
        "We can see that now Monty will not open door 'A', because the guest has chosen it. At the same time, the distribution over the prize has not changed, it is still equally likely that the prize is behind each door.\n",
        "\n",
        "Now, lets say that Monty opens door 'C' and see what happens. Here we use a dictionary rather than a list simply to show how one can use both input forms depending on what is more convenient."
      ]
    },
    {
      "cell_type": "code",
      "metadata": {
        "id": "sesIM4rf9Iny",
        "colab_type": "code",
        "colab": {
          "base_uri": "https://localhost:8080/",
          "height": 272
        },
        "outputId": "ca3491ea-fff2-4973-d361-f0613bfe1804"
      },
      "source": [
        "model.predict_proba([{'guest': 'A', 'monty': 'C'}])"
      ],
      "execution_count": 15,
      "outputs": [
        {
          "output_type": "execute_result",
          "data": {
            "text/plain": [
              "[array(['A',\n",
              "        {\n",
              "     \"class\" :\"Distribution\",\n",
              "     \"dtype\" :\"str\",\n",
              "     \"name\" :\"DiscreteDistribution\",\n",
              "     \"parameters\" :[\n",
              "         {\n",
              "             \"A\" :0.3333333333333334,\n",
              "             \"B\" :0.6666666666666664,\n",
              "             \"C\" :0.0\n",
              "         }\n",
              "     ],\n",
              "     \"frozen\" :false\n",
              " },\n",
              "        'C'], dtype=object)]"
            ]
          },
          "metadata": {
            "tags": []
          },
          "execution_count": 15
        }
      ]
    },
    {
      "cell_type": "markdown",
      "metadata": {
        "id": "n1rMEQqI_OuO",
        "colab_type": "text"
      },
      "source": [
        "Suddenly, we see that the distribution over prizes has changed. It is now twice as likely that the car is behind the door labeled 'B'. This demonstrates that when on the game show, it is always better to change your initial guess after being shown an open door. Now you could go and win tons of cars, except that the game show got cancelled."
      ]
    }
  ]
}