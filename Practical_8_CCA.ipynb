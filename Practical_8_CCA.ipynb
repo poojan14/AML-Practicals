{
  "nbformat": 4,
  "nbformat_minor": 0,
  "metadata": {
    "colab": {
      "name": "Practical_8_CCA.ipynb",
      "provenance": [],
      "authorship_tag": "ABX9TyPh56VSPhhXx8npZh819bxn",
      "include_colab_link": true
    },
    "kernelspec": {
      "name": "python3",
      "display_name": "Python 3"
    }
  },
  "cells": [
    {
      "cell_type": "markdown",
      "metadata": {
        "id": "view-in-github",
        "colab_type": "text"
      },
      "source": [
        "<a href=\"https://colab.research.google.com/github/poojan14/AML-Practicals/blob/master/Practical_8_CCA.ipynb\" target=\"_parent\"><img src=\"https://colab.research.google.com/assets/colab-badge.svg\" alt=\"Open In Colab\"/></a>"
      ]
    },
    {
      "cell_type": "markdown",
      "metadata": {
        "id": "MwQDC0KZq2sU",
        "colab_type": "text"
      },
      "source": [
        "## Introduced by Harold Hotelling, CCA is a way of inferring information from cross-covariance matrices. Typical use for CCA in the experimental context is to take two sets of variables and see what is common among the two sets. "
      ]
    },
    {
      "cell_type": "code",
      "metadata": {
        "id": "qh9YM58vnDCN",
        "colab_type": "code",
        "colab": {
          "base_uri": "https://localhost:8080/",
          "height": 275
        },
        "outputId": "5dd68e9d-c6dd-496a-8ef1-381dcb453ae2"
      },
      "source": [
        "!pip install pydrive\n",
        "from pydrive.auth import GoogleAuth\n",
        "from pydrive.drive import GoogleDrive\n",
        "from google.colab import auth\n",
        "from oauth2client.client import GoogleCredentials\n",
        " \n",
        "# 1. Authenticate and create the PyDrive client.\n",
        "auth.authenticate_user()\n",
        "gauth = GoogleAuth()\n",
        "gauth.credentials = GoogleCredentials.get_application_default()\n",
        "drive = GoogleDrive(gauth)"
      ],
      "execution_count": 18,
      "outputs": [
        {
          "output_type": "stream",
          "text": [
            "Requirement already satisfied: pydrive in /usr/local/lib/python3.6/dist-packages (1.3.1)\n",
            "Requirement already satisfied: oauth2client>=4.0.0 in /usr/local/lib/python3.6/dist-packages (from pydrive) (4.1.3)\n",
            "Requirement already satisfied: PyYAML>=3.0 in /usr/local/lib/python3.6/dist-packages (from pydrive) (3.13)\n",
            "Requirement already satisfied: google-api-python-client>=1.2 in /usr/local/lib/python3.6/dist-packages (from pydrive) (1.7.12)\n",
            "Requirement already satisfied: rsa>=3.1.4 in /usr/local/lib/python3.6/dist-packages (from oauth2client>=4.0.0->pydrive) (4.0)\n",
            "Requirement already satisfied: pyasn1-modules>=0.0.5 in /usr/local/lib/python3.6/dist-packages (from oauth2client>=4.0.0->pydrive) (0.2.8)\n",
            "Requirement already satisfied: pyasn1>=0.1.7 in /usr/local/lib/python3.6/dist-packages (from oauth2client>=4.0.0->pydrive) (0.4.8)\n",
            "Requirement already satisfied: httplib2>=0.9.1 in /usr/local/lib/python3.6/dist-packages (from oauth2client>=4.0.0->pydrive) (0.17.3)\n",
            "Requirement already satisfied: six>=1.6.1 in /usr/local/lib/python3.6/dist-packages (from oauth2client>=4.0.0->pydrive) (1.12.0)\n",
            "Requirement already satisfied: uritemplate<4dev,>=3.0.0 in /usr/local/lib/python3.6/dist-packages (from google-api-python-client>=1.2->pydrive) (3.0.1)\n",
            "Requirement already satisfied: google-auth-httplib2>=0.0.3 in /usr/local/lib/python3.6/dist-packages (from google-api-python-client>=1.2->pydrive) (0.0.3)\n",
            "Requirement already satisfied: google-auth>=1.4.1 in /usr/local/lib/python3.6/dist-packages (from google-api-python-client>=1.2->pydrive) (1.7.2)\n",
            "Requirement already satisfied: setuptools>=40.3.0 in /usr/local/lib/python3.6/dist-packages (from google-auth>=1.4.1->google-api-python-client>=1.2->pydrive) (46.3.0)\n",
            "Requirement already satisfied: cachetools<3.2,>=2.0.0 in /usr/local/lib/python3.6/dist-packages (from google-auth>=1.4.1->google-api-python-client>=1.2->pydrive) (3.1.1)\n"
          ],
          "name": "stdout"
        }
      ]
    },
    {
      "cell_type": "code",
      "metadata": {
        "id": "TBGQ2FLhnFdN",
        "colab_type": "code",
        "colab": {}
      },
      "source": [
        "download = drive.CreateFile({'id':'1bKPBNFvcO5pzfLkinyU7PIkX_jxcEf96'})\n",
        "download.GetContentFile('NYC_school.csv')"
      ],
      "execution_count": 0,
      "outputs": []
    },
    {
      "cell_type": "code",
      "metadata": {
        "id": "Fk5wvKw5nGBz",
        "colab_type": "code",
        "colab": {}
      },
      "source": [
        "import pandas as pd\n",
        "df = pd.read_csv('NYC_school.csv')"
      ],
      "execution_count": 0,
      "outputs": []
    },
    {
      "cell_type": "code",
      "metadata": {
        "id": "BRh77-L5nGil",
        "colab_type": "code",
        "colab": {
          "base_uri": "https://localhost:8080/",
          "height": 831
        },
        "outputId": "4c7a8679-8331-40d8-da18-c4ba08d30684"
      },
      "source": [
        "df.head()"
      ],
      "execution_count": 21,
      "outputs": [
        {
          "output_type": "execute_result",
          "data": {
            "text/html": [
              "<div>\n",
              "<style scoped>\n",
              "    .dataframe tbody tr th:only-of-type {\n",
              "        vertical-align: middle;\n",
              "    }\n",
              "\n",
              "    .dataframe tbody tr th {\n",
              "        vertical-align: top;\n",
              "    }\n",
              "\n",
              "    .dataframe thead th {\n",
              "        text-align: right;\n",
              "    }\n",
              "</style>\n",
              "<table border=\"1\" class=\"dataframe\">\n",
              "  <thead>\n",
              "    <tr style=\"text-align: right;\">\n",
              "      <th></th>\n",
              "      <th>Adjusted Grade</th>\n",
              "      <th>New?</th>\n",
              "      <th>Other Location Code in LCGMS</th>\n",
              "      <th>School Name</th>\n",
              "      <th>SED Code</th>\n",
              "      <th>Location Code</th>\n",
              "      <th>District</th>\n",
              "      <th>Latitude</th>\n",
              "      <th>Longitude</th>\n",
              "      <th>Address (Full)</th>\n",
              "      <th>City</th>\n",
              "      <th>Zip</th>\n",
              "      <th>Grades</th>\n",
              "      <th>Grade Low</th>\n",
              "      <th>Grade High</th>\n",
              "      <th>Community School?</th>\n",
              "      <th>Economic Need Index</th>\n",
              "      <th>School Income Estimate</th>\n",
              "      <th>Percent ELL</th>\n",
              "      <th>Percent Asian</th>\n",
              "      <th>Percent Black</th>\n",
              "      <th>Percent Hispanic</th>\n",
              "      <th>Percent Black / Hispanic</th>\n",
              "      <th>Percent White</th>\n",
              "      <th>Student Attendance Rate</th>\n",
              "      <th>Percent of Students Chronically Absent</th>\n",
              "      <th>Rigorous Instruction %</th>\n",
              "      <th>Rigorous Instruction Rating</th>\n",
              "      <th>Collaborative Teachers %</th>\n",
              "      <th>Collaborative Teachers Rating</th>\n",
              "      <th>Supportive Environment %</th>\n",
              "      <th>Supportive Environment Rating</th>\n",
              "      <th>Effective School Leadership %</th>\n",
              "      <th>Effective School Leadership Rating</th>\n",
              "      <th>Strong Family-Community Ties %</th>\n",
              "      <th>Strong Family-Community Ties Rating</th>\n",
              "      <th>Trust %</th>\n",
              "      <th>Trust Rating</th>\n",
              "      <th>Student Achievement Rating</th>\n",
              "      <th>Average ELA Proficiency</th>\n",
              "      <th>...</th>\n",
              "      <th>Grade 7 ELA - All Students Tested</th>\n",
              "      <th>Grade 7 ELA 4s - All Students</th>\n",
              "      <th>Grade 7 ELA 4s - American Indian or Alaska Native</th>\n",
              "      <th>Grade 7 ELA 4s - Black or African American</th>\n",
              "      <th>Grade 7 ELA 4s - Hispanic or Latino</th>\n",
              "      <th>Grade 7 ELA 4s - Asian or Pacific Islander</th>\n",
              "      <th>Grade 7 ELA 4s - White</th>\n",
              "      <th>Grade 7 ELA 4s - Multiracial</th>\n",
              "      <th>Grade 7 ELA 4s - Limited English Proficient</th>\n",
              "      <th>Grade 7 ELA 4s - Economically Disadvantaged</th>\n",
              "      <th>Grade 7 Math - All Students Tested</th>\n",
              "      <th>Grade 7 Math 4s - All Students</th>\n",
              "      <th>Grade 7 Math 4s - American Indian or Alaska Native</th>\n",
              "      <th>Grade 7 Math 4s - Black or African American</th>\n",
              "      <th>Grade 7 Math 4s - Hispanic or Latino</th>\n",
              "      <th>Grade 7 Math 4s - Asian or Pacific Islander</th>\n",
              "      <th>Grade 7 Math 4s - White</th>\n",
              "      <th>Grade 7 Math 4s - Multiracial</th>\n",
              "      <th>Grade 7 Math 4s - Limited English Proficient</th>\n",
              "      <th>Grade 7 Math 4s - Economically Disadvantaged</th>\n",
              "      <th>Grade 8 ELA - All Students Tested</th>\n",
              "      <th>Grade 8 ELA 4s - All Students</th>\n",
              "      <th>Grade 8 ELA 4s - American Indian or Alaska Native</th>\n",
              "      <th>Grade 8 ELA 4s - Black or African American</th>\n",
              "      <th>Grade 8 ELA 4s - Hispanic or Latino</th>\n",
              "      <th>Grade 8 ELA 4s - Asian or Pacific Islander</th>\n",
              "      <th>Grade 8 ELA 4s - White</th>\n",
              "      <th>Grade 8 ELA 4s - Multiracial</th>\n",
              "      <th>Grade 8 ELA 4s - Limited English Proficient</th>\n",
              "      <th>Grade 8 ELA 4s - Economically Disadvantaged</th>\n",
              "      <th>Grade 8 Math - All Students Tested</th>\n",
              "      <th>Grade 8 Math 4s - All Students</th>\n",
              "      <th>Grade 8 Math 4s - American Indian or Alaska Native</th>\n",
              "      <th>Grade 8 Math 4s - Black or African American</th>\n",
              "      <th>Grade 8 Math 4s - Hispanic or Latino</th>\n",
              "      <th>Grade 8 Math 4s - Asian or Pacific Islander</th>\n",
              "      <th>Grade 8 Math 4s - White</th>\n",
              "      <th>Grade 8 Math 4s - Multiracial</th>\n",
              "      <th>Grade 8 Math 4s - Limited English Proficient</th>\n",
              "      <th>Grade 8 Math 4s - Economically Disadvantaged</th>\n",
              "    </tr>\n",
              "  </thead>\n",
              "  <tbody>\n",
              "    <tr>\n",
              "      <th>0</th>\n",
              "      <td>NaN</td>\n",
              "      <td>NaN</td>\n",
              "      <td>NaN</td>\n",
              "      <td>P.S. 015 ROBERTO CLEMENTE</td>\n",
              "      <td>310100010015</td>\n",
              "      <td>01M015</td>\n",
              "      <td>1</td>\n",
              "      <td>40.721834</td>\n",
              "      <td>-73.978766</td>\n",
              "      <td>333 E 4TH ST NEW YORK, NY 10009</td>\n",
              "      <td>NEW YORK</td>\n",
              "      <td>10009</td>\n",
              "      <td>PK,0K,01,02,03,04,05</td>\n",
              "      <td>PK</td>\n",
              "      <td>05</td>\n",
              "      <td>Yes</td>\n",
              "      <td>0.919</td>\n",
              "      <td>$31,141.72</td>\n",
              "      <td>9%</td>\n",
              "      <td>5%</td>\n",
              "      <td>32%</td>\n",
              "      <td>60%</td>\n",
              "      <td>92%</td>\n",
              "      <td>1%</td>\n",
              "      <td>94%</td>\n",
              "      <td>18%</td>\n",
              "      <td>89%</td>\n",
              "      <td>Meeting Target</td>\n",
              "      <td>94%</td>\n",
              "      <td>Meeting Target</td>\n",
              "      <td>86%</td>\n",
              "      <td>Exceeding Target</td>\n",
              "      <td>91%</td>\n",
              "      <td>Exceeding Target</td>\n",
              "      <td>85%</td>\n",
              "      <td>Meeting Target</td>\n",
              "      <td>94%</td>\n",
              "      <td>Exceeding Target</td>\n",
              "      <td>Approaching Target</td>\n",
              "      <td>2.14</td>\n",
              "      <td>...</td>\n",
              "      <td>0</td>\n",
              "      <td>0</td>\n",
              "      <td>0</td>\n",
              "      <td>0</td>\n",
              "      <td>0</td>\n",
              "      <td>0</td>\n",
              "      <td>0</td>\n",
              "      <td>0</td>\n",
              "      <td>0</td>\n",
              "      <td>0</td>\n",
              "      <td>0</td>\n",
              "      <td>0</td>\n",
              "      <td>0</td>\n",
              "      <td>0</td>\n",
              "      <td>0</td>\n",
              "      <td>0</td>\n",
              "      <td>0</td>\n",
              "      <td>0</td>\n",
              "      <td>0</td>\n",
              "      <td>0</td>\n",
              "      <td>0</td>\n",
              "      <td>0</td>\n",
              "      <td>0</td>\n",
              "      <td>0</td>\n",
              "      <td>0</td>\n",
              "      <td>0</td>\n",
              "      <td>0</td>\n",
              "      <td>0</td>\n",
              "      <td>0</td>\n",
              "      <td>0</td>\n",
              "      <td>0</td>\n",
              "      <td>0</td>\n",
              "      <td>0</td>\n",
              "      <td>0</td>\n",
              "      <td>0</td>\n",
              "      <td>0</td>\n",
              "      <td>0</td>\n",
              "      <td>0</td>\n",
              "      <td>0</td>\n",
              "      <td>0</td>\n",
              "    </tr>\n",
              "    <tr>\n",
              "      <th>1</th>\n",
              "      <td>NaN</td>\n",
              "      <td>NaN</td>\n",
              "      <td>NaN</td>\n",
              "      <td>P.S. 019 ASHER LEVY</td>\n",
              "      <td>310100010019</td>\n",
              "      <td>01M019</td>\n",
              "      <td>1</td>\n",
              "      <td>40.729892</td>\n",
              "      <td>-73.984231</td>\n",
              "      <td>185 1ST AVE NEW YORK, NY 10003</td>\n",
              "      <td>NEW YORK</td>\n",
              "      <td>10003</td>\n",
              "      <td>PK,0K,01,02,03,04,05</td>\n",
              "      <td>PK</td>\n",
              "      <td>05</td>\n",
              "      <td>No</td>\n",
              "      <td>0.641</td>\n",
              "      <td>$56,462.88</td>\n",
              "      <td>5%</td>\n",
              "      <td>10%</td>\n",
              "      <td>20%</td>\n",
              "      <td>63%</td>\n",
              "      <td>83%</td>\n",
              "      <td>6%</td>\n",
              "      <td>92%</td>\n",
              "      <td>30%</td>\n",
              "      <td>96%</td>\n",
              "      <td>NaN</td>\n",
              "      <td>96%</td>\n",
              "      <td>NaN</td>\n",
              "      <td>97%</td>\n",
              "      <td>NaN</td>\n",
              "      <td>90%</td>\n",
              "      <td>Exceeding Target</td>\n",
              "      <td>86%</td>\n",
              "      <td>Meeting Target</td>\n",
              "      <td>94%</td>\n",
              "      <td>Meeting Target</td>\n",
              "      <td>Exceeding Target</td>\n",
              "      <td>2.63</td>\n",
              "      <td>...</td>\n",
              "      <td>0</td>\n",
              "      <td>0</td>\n",
              "      <td>0</td>\n",
              "      <td>0</td>\n",
              "      <td>0</td>\n",
              "      <td>0</td>\n",
              "      <td>0</td>\n",
              "      <td>0</td>\n",
              "      <td>0</td>\n",
              "      <td>0</td>\n",
              "      <td>0</td>\n",
              "      <td>0</td>\n",
              "      <td>0</td>\n",
              "      <td>0</td>\n",
              "      <td>0</td>\n",
              "      <td>0</td>\n",
              "      <td>0</td>\n",
              "      <td>0</td>\n",
              "      <td>0</td>\n",
              "      <td>0</td>\n",
              "      <td>0</td>\n",
              "      <td>0</td>\n",
              "      <td>0</td>\n",
              "      <td>0</td>\n",
              "      <td>0</td>\n",
              "      <td>0</td>\n",
              "      <td>0</td>\n",
              "      <td>0</td>\n",
              "      <td>0</td>\n",
              "      <td>0</td>\n",
              "      <td>0</td>\n",
              "      <td>0</td>\n",
              "      <td>0</td>\n",
              "      <td>0</td>\n",
              "      <td>0</td>\n",
              "      <td>0</td>\n",
              "      <td>0</td>\n",
              "      <td>0</td>\n",
              "      <td>0</td>\n",
              "      <td>0</td>\n",
              "    </tr>\n",
              "    <tr>\n",
              "      <th>2</th>\n",
              "      <td>NaN</td>\n",
              "      <td>NaN</td>\n",
              "      <td>NaN</td>\n",
              "      <td>P.S. 020 ANNA SILVER</td>\n",
              "      <td>310100010020</td>\n",
              "      <td>01M020</td>\n",
              "      <td>1</td>\n",
              "      <td>40.721274</td>\n",
              "      <td>-73.986315</td>\n",
              "      <td>166 ESSEX ST NEW YORK, NY 10002</td>\n",
              "      <td>NEW YORK</td>\n",
              "      <td>10002</td>\n",
              "      <td>PK,0K,01,02,03,04,05</td>\n",
              "      <td>PK</td>\n",
              "      <td>05</td>\n",
              "      <td>No</td>\n",
              "      <td>0.744</td>\n",
              "      <td>$44,342.61</td>\n",
              "      <td>15%</td>\n",
              "      <td>35%</td>\n",
              "      <td>8%</td>\n",
              "      <td>49%</td>\n",
              "      <td>57%</td>\n",
              "      <td>4%</td>\n",
              "      <td>94%</td>\n",
              "      <td>20%</td>\n",
              "      <td>87%</td>\n",
              "      <td>Meeting Target</td>\n",
              "      <td>77%</td>\n",
              "      <td>Meeting Target</td>\n",
              "      <td>82%</td>\n",
              "      <td>Approaching Target</td>\n",
              "      <td>61%</td>\n",
              "      <td>Not Meeting Target</td>\n",
              "      <td>80%</td>\n",
              "      <td>Approaching Target</td>\n",
              "      <td>79%</td>\n",
              "      <td>Not Meeting Target</td>\n",
              "      <td>Approaching Target</td>\n",
              "      <td>2.39</td>\n",
              "      <td>...</td>\n",
              "      <td>0</td>\n",
              "      <td>0</td>\n",
              "      <td>0</td>\n",
              "      <td>0</td>\n",
              "      <td>0</td>\n",
              "      <td>0</td>\n",
              "      <td>0</td>\n",
              "      <td>0</td>\n",
              "      <td>0</td>\n",
              "      <td>0</td>\n",
              "      <td>0</td>\n",
              "      <td>0</td>\n",
              "      <td>0</td>\n",
              "      <td>0</td>\n",
              "      <td>0</td>\n",
              "      <td>0</td>\n",
              "      <td>0</td>\n",
              "      <td>0</td>\n",
              "      <td>0</td>\n",
              "      <td>0</td>\n",
              "      <td>0</td>\n",
              "      <td>0</td>\n",
              "      <td>0</td>\n",
              "      <td>0</td>\n",
              "      <td>0</td>\n",
              "      <td>0</td>\n",
              "      <td>0</td>\n",
              "      <td>0</td>\n",
              "      <td>0</td>\n",
              "      <td>0</td>\n",
              "      <td>0</td>\n",
              "      <td>0</td>\n",
              "      <td>0</td>\n",
              "      <td>0</td>\n",
              "      <td>0</td>\n",
              "      <td>0</td>\n",
              "      <td>0</td>\n",
              "      <td>0</td>\n",
              "      <td>0</td>\n",
              "      <td>0</td>\n",
              "    </tr>\n",
              "    <tr>\n",
              "      <th>3</th>\n",
              "      <td>NaN</td>\n",
              "      <td>NaN</td>\n",
              "      <td>NaN</td>\n",
              "      <td>P.S. 034 FRANKLIN D. ROOSEVELT</td>\n",
              "      <td>310100010034</td>\n",
              "      <td>01M034</td>\n",
              "      <td>1</td>\n",
              "      <td>40.726147</td>\n",
              "      <td>-73.975043</td>\n",
              "      <td>730 E 12TH ST NEW YORK, NY 10009</td>\n",
              "      <td>NEW YORK</td>\n",
              "      <td>10009</td>\n",
              "      <td>PK,0K,01,02,03,04,05,06,07,08</td>\n",
              "      <td>PK</td>\n",
              "      <td>08</td>\n",
              "      <td>No</td>\n",
              "      <td>0.860</td>\n",
              "      <td>$31,454.00</td>\n",
              "      <td>7%</td>\n",
              "      <td>5%</td>\n",
              "      <td>29%</td>\n",
              "      <td>63%</td>\n",
              "      <td>92%</td>\n",
              "      <td>4%</td>\n",
              "      <td>92%</td>\n",
              "      <td>28%</td>\n",
              "      <td>85%</td>\n",
              "      <td>Approaching Target</td>\n",
              "      <td>78%</td>\n",
              "      <td>Meeting Target</td>\n",
              "      <td>82%</td>\n",
              "      <td>Meeting Target</td>\n",
              "      <td>73%</td>\n",
              "      <td>Approaching Target</td>\n",
              "      <td>89%</td>\n",
              "      <td>Meeting Target</td>\n",
              "      <td>88%</td>\n",
              "      <td>Meeting Target</td>\n",
              "      <td>Exceeding Target</td>\n",
              "      <td>2.48</td>\n",
              "      <td>...</td>\n",
              "      <td>55</td>\n",
              "      <td>4</td>\n",
              "      <td>0</td>\n",
              "      <td>0</td>\n",
              "      <td>3</td>\n",
              "      <td>0</td>\n",
              "      <td>0</td>\n",
              "      <td>0</td>\n",
              "      <td>0</td>\n",
              "      <td>0</td>\n",
              "      <td>55</td>\n",
              "      <td>3</td>\n",
              "      <td>0</td>\n",
              "      <td>0</td>\n",
              "      <td>3</td>\n",
              "      <td>0</td>\n",
              "      <td>0</td>\n",
              "      <td>0</td>\n",
              "      <td>0</td>\n",
              "      <td>0</td>\n",
              "      <td>47</td>\n",
              "      <td>1</td>\n",
              "      <td>0</td>\n",
              "      <td>0</td>\n",
              "      <td>0</td>\n",
              "      <td>0</td>\n",
              "      <td>0</td>\n",
              "      <td>0</td>\n",
              "      <td>0</td>\n",
              "      <td>0</td>\n",
              "      <td>48</td>\n",
              "      <td>1</td>\n",
              "      <td>0</td>\n",
              "      <td>0</td>\n",
              "      <td>0</td>\n",
              "      <td>0</td>\n",
              "      <td>0</td>\n",
              "      <td>0</td>\n",
              "      <td>0</td>\n",
              "      <td>0</td>\n",
              "    </tr>\n",
              "    <tr>\n",
              "      <th>4</th>\n",
              "      <td>NaN</td>\n",
              "      <td>NaN</td>\n",
              "      <td>NaN</td>\n",
              "      <td>THE STAR ACADEMY - P.S.63</td>\n",
              "      <td>310100010063</td>\n",
              "      <td>01M063</td>\n",
              "      <td>1</td>\n",
              "      <td>40.724404</td>\n",
              "      <td>-73.986360</td>\n",
              "      <td>121 E 3RD ST NEW YORK, NY 10009</td>\n",
              "      <td>NEW YORK</td>\n",
              "      <td>10009</td>\n",
              "      <td>PK,0K,01,02,03,04,05</td>\n",
              "      <td>PK</td>\n",
              "      <td>05</td>\n",
              "      <td>No</td>\n",
              "      <td>0.730</td>\n",
              "      <td>$46,435.59</td>\n",
              "      <td>3%</td>\n",
              "      <td>4%</td>\n",
              "      <td>20%</td>\n",
              "      <td>65%</td>\n",
              "      <td>84%</td>\n",
              "      <td>10%</td>\n",
              "      <td>93%</td>\n",
              "      <td>23%</td>\n",
              "      <td>90%</td>\n",
              "      <td>Meeting Target</td>\n",
              "      <td>88%</td>\n",
              "      <td>Meeting Target</td>\n",
              "      <td>87%</td>\n",
              "      <td>Meeting Target</td>\n",
              "      <td>81%</td>\n",
              "      <td>Meeting Target</td>\n",
              "      <td>89%</td>\n",
              "      <td>Meeting Target</td>\n",
              "      <td>93%</td>\n",
              "      <td>Meeting Target</td>\n",
              "      <td>Meeting Target</td>\n",
              "      <td>2.38</td>\n",
              "      <td>...</td>\n",
              "      <td>0</td>\n",
              "      <td>0</td>\n",
              "      <td>0</td>\n",
              "      <td>0</td>\n",
              "      <td>0</td>\n",
              "      <td>0</td>\n",
              "      <td>0</td>\n",
              "      <td>0</td>\n",
              "      <td>0</td>\n",
              "      <td>0</td>\n",
              "      <td>0</td>\n",
              "      <td>0</td>\n",
              "      <td>0</td>\n",
              "      <td>0</td>\n",
              "      <td>0</td>\n",
              "      <td>0</td>\n",
              "      <td>0</td>\n",
              "      <td>0</td>\n",
              "      <td>0</td>\n",
              "      <td>0</td>\n",
              "      <td>0</td>\n",
              "      <td>0</td>\n",
              "      <td>0</td>\n",
              "      <td>0</td>\n",
              "      <td>0</td>\n",
              "      <td>0</td>\n",
              "      <td>0</td>\n",
              "      <td>0</td>\n",
              "      <td>0</td>\n",
              "      <td>0</td>\n",
              "      <td>0</td>\n",
              "      <td>0</td>\n",
              "      <td>0</td>\n",
              "      <td>0</td>\n",
              "      <td>0</td>\n",
              "      <td>0</td>\n",
              "      <td>0</td>\n",
              "      <td>0</td>\n",
              "      <td>0</td>\n",
              "      <td>0</td>\n",
              "    </tr>\n",
              "  </tbody>\n",
              "</table>\n",
              "<p>5 rows × 161 columns</p>\n",
              "</div>"
            ],
            "text/plain": [
              "  Adjusted Grade  ... Grade 8 Math 4s - Economically Disadvantaged\n",
              "0            NaN  ...                                            0\n",
              "1            NaN  ...                                            0\n",
              "2            NaN  ...                                            0\n",
              "3            NaN  ...                                            0\n",
              "4            NaN  ...                                            0\n",
              "\n",
              "[5 rows x 161 columns]"
            ]
          },
          "metadata": {
            "tags": []
          },
          "execution_count": 21
        }
      ]
    },
    {
      "cell_type": "code",
      "metadata": {
        "id": "32FvtsxLnHAq",
        "colab_type": "code",
        "colab": {}
      },
      "source": [
        "# choose relevant features\n",
        "df = df[['Rigorous Instruction %',\n",
        "      'Collaborative Teachers %',\n",
        "     'Supportive Environment %',\n",
        "       'Effective School Leadership %',\n",
        "   'Strong Family-Community Ties %',\n",
        "    'Trust %','Average ELA Proficiency',\n",
        "       'Average Math Proficiency']]\n",
        "# drop missing values\n",
        "df = df.dropna()\n",
        "# separate X and Y groups\n",
        "X = df[['Rigorous Instruction %',\n",
        "      'Collaborative Teachers %',\n",
        "     'Supportive Environment %',\n",
        "       'Effective School Leadership %',\n",
        "   'Strong Family-Community Ties %',\n",
        "    'Trust %'\n",
        "      ]]\n",
        "Y = df[['Average ELA Proficiency',\n",
        "       'Average Math Proficiency']]\n"
      ],
      "execution_count": 0,
      "outputs": []
    },
    {
      "cell_type": "code",
      "metadata": {
        "id": "U2c1I-2WnHaf",
        "colab_type": "code",
        "colab": {
          "base_uri": "https://localhost:8080/",
          "height": 221
        },
        "outputId": "128a8fd8-7408-4111-850f-c1cc9d5ed44b"
      },
      "source": [
        "for col in X.columns:\n",
        "    X[col] = X[col].str.strip('%')\n",
        "    X[col] = X[col].astype('int')\n",
        "# Standardise the data\n",
        "from sklearn.preprocessing import StandardScaler\n",
        "sc = StandardScaler(with_mean=True, with_std=True)\n",
        "X_sc = sc.fit_transform(X)\n",
        "Y_sc = sc.fit_transform(Y)"
      ],
      "execution_count": 23,
      "outputs": [
        {
          "output_type": "stream",
          "text": [
            "/usr/local/lib/python3.6/dist-packages/ipykernel_launcher.py:2: SettingWithCopyWarning: \n",
            "A value is trying to be set on a copy of a slice from a DataFrame.\n",
            "Try using .loc[row_indexer,col_indexer] = value instead\n",
            "\n",
            "See the caveats in the documentation: https://pandas.pydata.org/pandas-docs/stable/user_guide/indexing.html#returning-a-view-versus-a-copy\n",
            "  \n",
            "/usr/local/lib/python3.6/dist-packages/ipykernel_launcher.py:3: SettingWithCopyWarning: \n",
            "A value is trying to be set on a copy of a slice from a DataFrame.\n",
            "Try using .loc[row_indexer,col_indexer] = value instead\n",
            "\n",
            "See the caveats in the documentation: https://pandas.pydata.org/pandas-docs/stable/user_guide/indexing.html#returning-a-view-versus-a-copy\n",
            "  This is separate from the ipykernel package so we can avoid doing imports until\n"
          ],
          "name": "stderr"
        }
      ]
    },
    {
      "cell_type": "code",
      "metadata": {
        "id": "h_48KPKQpWhw",
        "colab_type": "code",
        "colab": {
          "base_uri": "https://localhost:8080/",
          "height": 102
        },
        "outputId": "243e0aa9-cbf1-4d98-e215-0a833459b9bc"
      },
      "source": [
        "!pip install pyrcca"
      ],
      "execution_count": 24,
      "outputs": [
        {
          "output_type": "stream",
          "text": [
            "Requirement already satisfied: pyrcca in /usr/local/lib/python3.6/dist-packages (0.1)\n",
            "Requirement already satisfied: scipy in /usr/local/lib/python3.6/dist-packages (from pyrcca) (1.4.1)\n",
            "Requirement already satisfied: numpy in /usr/local/lib/python3.6/dist-packages (from pyrcca) (1.18.4)\n",
            "Requirement already satisfied: h5py in /usr/local/lib/python3.6/dist-packages (from pyrcca) (2.10.0)\n",
            "Requirement already satisfied: six in /usr/local/lib/python3.6/dist-packages (from h5py->pyrcca) (1.12.0)\n"
          ],
          "name": "stdout"
        }
      ]
    },
    {
      "cell_type": "markdown",
      "metadata": {
        "id": "OuwGR1T4sK16",
        "colab_type": "text"
      },
      "source": [
        "**Canonical Correlation**"
      ]
    },
    {
      "cell_type": "code",
      "metadata": {
        "id": "vqUKoqOrnH33",
        "colab_type": "code",
        "colab": {
          "base_uri": "https://localhost:8080/",
          "height": 68
        },
        "outputId": "348053ab-5d10-4893-e11d-ef468f65ac0c"
      },
      "source": [
        "import rcca\n",
        "\n",
        "nComponents = 2 # min(p,q) components\n",
        "cca = rcca.CCA(kernelcca = False, reg = 0., numCC = nComponents,)\n",
        "# train on data\n",
        "cca.train([X_sc, Y_sc])\n",
        "print('Canonical Correlation Per Component Pair:',cca.cancorrs)\n",
        "print('% Shared Variance:',cca.cancorrs**2)"
      ],
      "execution_count": 27,
      "outputs": [
        {
          "output_type": "stream",
          "text": [
            "Training CCA, kernel = None, regularization = 0.0000, 2 components\n",
            "Canonical Correlation Per Component Pair: [0.46059902 0.18447786]\n",
            "% Shared Variance: [0.21215146 0.03403208]\n"
          ],
          "name": "stdout"
        }
      ]
    },
    {
      "cell_type": "markdown",
      "metadata": {
        "id": "fSnPpCRGscTo",
        "colab_type": "text"
      },
      "source": [
        "**Canonical Weights**"
      ]
    },
    {
      "cell_type": "code",
      "metadata": {
        "id": "HzTgiSHRnIyc",
        "colab_type": "code",
        "colab": {
          "base_uri": "https://localhost:8080/",
          "height": 136
        },
        "outputId": "1e5a3264-0d0b-41b3-fb59-ad37c267de44"
      },
      "source": [
        "cca.ws\n"
      ],
      "execution_count": 28,
      "outputs": [
        {
          "output_type": "execute_result",
          "data": {
            "text/plain": [
              "[array([[-0.00375779,  0.0078263 ],\n",
              "        [ 0.00061439, -0.00357358],\n",
              "        [-0.02054012, -0.0083491 ],\n",
              "        [-0.01252477,  0.02976148],\n",
              "        [ 0.00046503, -0.00905069],\n",
              "        [ 0.01415084, -0.01264106]]), array([[ 0.00632283,  0.05721601],\n",
              "        [-0.02606459, -0.05132531]])]"
            ]
          },
          "metadata": {
            "tags": []
          },
          "execution_count": 28
        }
      ]
    },
    {
      "cell_type": "markdown",
      "metadata": {
        "id": "d2tTw_3NslfQ",
        "colab_type": "text"
      },
      "source": [
        "**Canonical Loadings**"
      ]
    },
    {
      "cell_type": "code",
      "metadata": {
        "id": "EDm0r632nJRt",
        "colab_type": "code",
        "colab": {
          "base_uri": "https://localhost:8080/",
          "height": 51
        },
        "outputId": "7ab2a842-02bc-4e62-8f9a-e3a355afd9e4"
      },
      "source": [
        "import numpy as np\n",
        "\n",
        "print('Loading for Math Score:',np.corrcoef(cca.comps[0][:,0],Y_sc[:,0])[0,1])\n",
        "print('Loading for ELA Score:',np.corrcoef(cca.comps[0][:,0],Y_sc[:,1])[0,1])\n"
      ],
      "execution_count": 30,
      "outputs": [
        {
          "output_type": "stream",
          "text": [
            "Loading for Math Score: -0.4106778140971078\n",
            "Loading for ELA Score: -0.4578120954218724\n"
          ],
          "name": "stdout"
        }
      ]
    },
    {
      "cell_type": "markdown",
      "metadata": {
        "id": "HVlOMw_Dsrux",
        "colab_type": "text"
      },
      "source": [
        "**Canonical Covariates**"
      ]
    },
    {
      "cell_type": "code",
      "metadata": {
        "id": "OLjaaVsroZAN",
        "colab_type": "code",
        "colab": {
          "base_uri": "https://localhost:8080/",
          "height": 136
        },
        "outputId": "13d845f4-0373-4d84-a9dd-75e3dfa4aa62"
      },
      "source": [
        "cca.comps[0]\n"
      ],
      "execution_count": 31,
      "outputs": [
        {
          "output_type": "execute_result",
          "data": {
            "text/plain": [
              "array([[ 0.00521903,  0.01840999],\n",
              "       [-0.03173083,  0.00669952],\n",
              "       [ 0.02066659, -0.02319188],\n",
              "       ...,\n",
              "       [ 0.00029259,  0.0018127 ],\n",
              "       [-0.02341333, -0.00532078],\n",
              "       [ 0.00647899,  0.00178834]])"
            ]
          },
          "metadata": {
            "tags": []
          },
          "execution_count": 31
        }
      ]
    },
    {
      "cell_type": "code",
      "metadata": {
        "id": "oxL9VzmroZ-g",
        "colab_type": "code",
        "colab": {
          "base_uri": "https://localhost:8080/",
          "height": 51
        },
        "outputId": "16696d8e-24d7-4a39-e16e-61b72b58dd4e"
      },
      "source": [
        "cca.comps[0][:,0]\n"
      ],
      "execution_count": 32,
      "outputs": [
        {
          "output_type": "execute_result",
          "data": {
            "text/plain": [
              "array([ 0.00521903, -0.03173083,  0.02066659, ...,  0.00029259,\n",
              "       -0.02341333,  0.00647899])"
            ]
          },
          "metadata": {
            "tags": []
          },
          "execution_count": 32
        }
      ]
    },
    {
      "cell_type": "code",
      "metadata": {
        "id": "l5oa5AvPomZt",
        "colab_type": "code",
        "colab": {
          "base_uri": "https://localhost:8080/",
          "height": 51
        },
        "outputId": "d8caf212-3b5c-4a3b-9d26-ee71f0f60deb"
      },
      "source": [
        "cca.comps[0][:,1]\n"
      ],
      "execution_count": 33,
      "outputs": [
        {
          "output_type": "execute_result",
          "data": {
            "text/plain": [
              "array([ 0.01840999,  0.00669952, -0.02319188, ...,  0.0018127 ,\n",
              "       -0.00532078,  0.00178834])"
            ]
          },
          "metadata": {
            "tags": []
          },
          "execution_count": 33
        }
      ]
    },
    {
      "cell_type": "code",
      "metadata": {
        "id": "2Bz6jD8wowoX",
        "colab_type": "code",
        "colab": {
          "base_uri": "https://localhost:8080/",
          "height": 136
        },
        "outputId": "ccb32bee-58cf-4c57-e1e0-27f536e88baf"
      },
      "source": [
        "cca.comps[1]\n"
      ],
      "execution_count": 34,
      "outputs": [
        {
          "output_type": "execute_result",
          "data": {
            "text/plain": [
              "array([[ 0.02079591, -0.00760554],\n",
              "       [-0.01557288, -0.01886755],\n",
              "       [ 0.00463834, -0.00862955],\n",
              "       ...,\n",
              "       [-0.01923392, -0.00883273],\n",
              "       [-0.03327623, -0.05742338],\n",
              "       [-0.02529823, -0.02446945]])"
            ]
          },
          "metadata": {
            "tags": []
          },
          "execution_count": 34
        }
      ]
    },
    {
      "cell_type": "code",
      "metadata": {
        "id": "6w0Mp0bPoxL3",
        "colab_type": "code",
        "colab": {
          "base_uri": "https://localhost:8080/",
          "height": 51
        },
        "outputId": "d2eabf61-bd1f-4e8a-dac0-51e85dff6dd6"
      },
      "source": [
        "cca.comps[1][:,0]\n"
      ],
      "execution_count": 35,
      "outputs": [
        {
          "output_type": "execute_result",
          "data": {
            "text/plain": [
              "array([ 0.02079591, -0.01557288,  0.00463834, ..., -0.01923392,\n",
              "       -0.03327623, -0.02529823])"
            ]
          },
          "metadata": {
            "tags": []
          },
          "execution_count": 35
        }
      ]
    },
    {
      "cell_type": "code",
      "metadata": {
        "id": "-KA7ikcXo8nL",
        "colab_type": "code",
        "colab": {
          "base_uri": "https://localhost:8080/",
          "height": 51
        },
        "outputId": "3a3c2ac7-44d5-4f1c-dd8d-3bc0a391d276"
      },
      "source": [
        "cca.comps[1][:,1]\n"
      ],
      "execution_count": 36,
      "outputs": [
        {
          "output_type": "execute_result",
          "data": {
            "text/plain": [
              "array([-0.00760554, -0.01886755, -0.00862955, ..., -0.00883273,\n",
              "       -0.05742338, -0.02446945])"
            ]
          },
          "metadata": {
            "tags": []
          },
          "execution_count": 36
        }
      ]
    }
  ]
}