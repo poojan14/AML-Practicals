{
  "nbformat": 4,
  "nbformat_minor": 0,
  "metadata": {
    "colab": {
      "name": "Practical_9_LDA.ipynb",
      "provenance": [],
      "authorship_tag": "ABX9TyP6U2iDLu/6UlSHl4bCRtpe",
      "include_colab_link": true
    },
    "kernelspec": {
      "name": "python3",
      "display_name": "Python 3"
    }
  },
  "cells": [
    {
      "cell_type": "markdown",
      "metadata": {
        "id": "view-in-github",
        "colab_type": "text"
      },
      "source": [
        "<a href=\"https://colab.research.google.com/github/poojan14/AML-Practicals/blob/master/Practical_9_LDA.ipynb\" target=\"_parent\"><img src=\"https://colab.research.google.com/assets/colab-badge.svg\" alt=\"Open In Colab\"/></a>"
      ]
    },
    {
      "cell_type": "markdown",
      "metadata": {
        "id": "Hx6OxWgIt5No",
        "colab_type": "text"
      },
      "source": [
        "**Linear Discriminant Analysis (LDA)** is a dimensionality reduction technique. As the name implies dimensionality reduction techniques reduce the number of dimensions in a dataset while retaining as much information as possible. "
      ]
    },
    {
      "cell_type": "code",
      "metadata": {
        "id": "bUv4Ao_LtfDr",
        "colab_type": "code",
        "colab": {
          "base_uri": "https://localhost:8080/",
          "height": 71
        },
        "outputId": "e9c4ee0e-4c88-4c30-c1ca-c84635747fb1"
      },
      "source": [
        "from sklearn.datasets import load_wine\n",
        "import pandas as pd\n",
        "import numpy as np\n",
        "np.set_printoptions(precision=4)\n",
        "from matplotlib import pyplot as plt\n",
        "import seaborn as sns\n",
        "sns.set()\n",
        "from sklearn.preprocessing import LabelEncoder\n",
        "from sklearn.tree import DecisionTreeClassifier\n",
        "from sklearn.model_selection import train_test_split\n",
        "from sklearn.metrics import confusion_matrix\n"
      ],
      "execution_count": 1,
      "outputs": [
        {
          "output_type": "stream",
          "text": [
            "/usr/local/lib/python3.6/dist-packages/statsmodels/tools/_testing.py:19: FutureWarning: pandas.util.testing is deprecated. Use the functions in the public API at pandas.testing instead.\n",
            "  import pandas.util.testing as tm\n"
          ],
          "name": "stderr"
        }
      ]
    },
    {
      "cell_type": "code",
      "metadata": {
        "id": "4o-tO_pguB2j",
        "colab_type": "code",
        "colab": {
          "base_uri": "https://localhost:8080/",
          "height": 34
        },
        "outputId": "6479dbde-7809-4d99-9e15-902e882bfcf5"
      },
      "source": [
        "wine = load_wine()\n",
        "X = pd.DataFrame(wine.data, columns=wine.feature_names)\n",
        "y = pd.Categorical.from_codes(wine.target, wine.target_names)\n",
        "X.shape\n"
      ],
      "execution_count": 2,
      "outputs": [
        {
          "output_type": "execute_result",
          "data": {
            "text/plain": [
              "(178, 13)"
            ]
          },
          "metadata": {
            "tags": []
          },
          "execution_count": 2
        }
      ]
    },
    {
      "cell_type": "code",
      "metadata": {
        "id": "S54EycK0uDH6",
        "colab_type": "code",
        "colab": {
          "base_uri": "https://localhost:8080/",
          "height": 224
        },
        "outputId": "6571a282-f1b1-4f19-aa89-67cfd29c766e"
      },
      "source": [
        "X.head()\n"
      ],
      "execution_count": 3,
      "outputs": [
        {
          "output_type": "execute_result",
          "data": {
            "text/html": [
              "<div>\n",
              "<style scoped>\n",
              "    .dataframe tbody tr th:only-of-type {\n",
              "        vertical-align: middle;\n",
              "    }\n",
              "\n",
              "    .dataframe tbody tr th {\n",
              "        vertical-align: top;\n",
              "    }\n",
              "\n",
              "    .dataframe thead th {\n",
              "        text-align: right;\n",
              "    }\n",
              "</style>\n",
              "<table border=\"1\" class=\"dataframe\">\n",
              "  <thead>\n",
              "    <tr style=\"text-align: right;\">\n",
              "      <th></th>\n",
              "      <th>alcohol</th>\n",
              "      <th>malic_acid</th>\n",
              "      <th>ash</th>\n",
              "      <th>alcalinity_of_ash</th>\n",
              "      <th>magnesium</th>\n",
              "      <th>total_phenols</th>\n",
              "      <th>flavanoids</th>\n",
              "      <th>nonflavanoid_phenols</th>\n",
              "      <th>proanthocyanins</th>\n",
              "      <th>color_intensity</th>\n",
              "      <th>hue</th>\n",
              "      <th>od280/od315_of_diluted_wines</th>\n",
              "      <th>proline</th>\n",
              "    </tr>\n",
              "  </thead>\n",
              "  <tbody>\n",
              "    <tr>\n",
              "      <th>0</th>\n",
              "      <td>14.23</td>\n",
              "      <td>1.71</td>\n",
              "      <td>2.43</td>\n",
              "      <td>15.6</td>\n",
              "      <td>127.0</td>\n",
              "      <td>2.80</td>\n",
              "      <td>3.06</td>\n",
              "      <td>0.28</td>\n",
              "      <td>2.29</td>\n",
              "      <td>5.64</td>\n",
              "      <td>1.04</td>\n",
              "      <td>3.92</td>\n",
              "      <td>1065.0</td>\n",
              "    </tr>\n",
              "    <tr>\n",
              "      <th>1</th>\n",
              "      <td>13.20</td>\n",
              "      <td>1.78</td>\n",
              "      <td>2.14</td>\n",
              "      <td>11.2</td>\n",
              "      <td>100.0</td>\n",
              "      <td>2.65</td>\n",
              "      <td>2.76</td>\n",
              "      <td>0.26</td>\n",
              "      <td>1.28</td>\n",
              "      <td>4.38</td>\n",
              "      <td>1.05</td>\n",
              "      <td>3.40</td>\n",
              "      <td>1050.0</td>\n",
              "    </tr>\n",
              "    <tr>\n",
              "      <th>2</th>\n",
              "      <td>13.16</td>\n",
              "      <td>2.36</td>\n",
              "      <td>2.67</td>\n",
              "      <td>18.6</td>\n",
              "      <td>101.0</td>\n",
              "      <td>2.80</td>\n",
              "      <td>3.24</td>\n",
              "      <td>0.30</td>\n",
              "      <td>2.81</td>\n",
              "      <td>5.68</td>\n",
              "      <td>1.03</td>\n",
              "      <td>3.17</td>\n",
              "      <td>1185.0</td>\n",
              "    </tr>\n",
              "    <tr>\n",
              "      <th>3</th>\n",
              "      <td>14.37</td>\n",
              "      <td>1.95</td>\n",
              "      <td>2.50</td>\n",
              "      <td>16.8</td>\n",
              "      <td>113.0</td>\n",
              "      <td>3.85</td>\n",
              "      <td>3.49</td>\n",
              "      <td>0.24</td>\n",
              "      <td>2.18</td>\n",
              "      <td>7.80</td>\n",
              "      <td>0.86</td>\n",
              "      <td>3.45</td>\n",
              "      <td>1480.0</td>\n",
              "    </tr>\n",
              "    <tr>\n",
              "      <th>4</th>\n",
              "      <td>13.24</td>\n",
              "      <td>2.59</td>\n",
              "      <td>2.87</td>\n",
              "      <td>21.0</td>\n",
              "      <td>118.0</td>\n",
              "      <td>2.80</td>\n",
              "      <td>2.69</td>\n",
              "      <td>0.39</td>\n",
              "      <td>1.82</td>\n",
              "      <td>4.32</td>\n",
              "      <td>1.04</td>\n",
              "      <td>2.93</td>\n",
              "      <td>735.0</td>\n",
              "    </tr>\n",
              "  </tbody>\n",
              "</table>\n",
              "</div>"
            ],
            "text/plain": [
              "   alcohol  malic_acid   ash  ...   hue  od280/od315_of_diluted_wines  proline\n",
              "0    14.23        1.71  2.43  ...  1.04                          3.92   1065.0\n",
              "1    13.20        1.78  2.14  ...  1.05                          3.40   1050.0\n",
              "2    13.16        2.36  2.67  ...  1.03                          3.17   1185.0\n",
              "3    14.37        1.95  2.50  ...  0.86                          3.45   1480.0\n",
              "4    13.24        2.59  2.87  ...  1.04                          2.93    735.0\n",
              "\n",
              "[5 rows x 13 columns]"
            ]
          },
          "metadata": {
            "tags": []
          },
          "execution_count": 3
        }
      ]
    },
    {
      "cell_type": "code",
      "metadata": {
        "id": "IdtnO9n_uEQY",
        "colab_type": "code",
        "colab": {
          "base_uri": "https://localhost:8080/",
          "height": 34
        },
        "outputId": "50f72650-2cbb-4f57-e54f-00afa67d9101"
      },
      "source": [
        "wine.target_names\n"
      ],
      "execution_count": 4,
      "outputs": [
        {
          "output_type": "execute_result",
          "data": {
            "text/plain": [
              "array(['class_0', 'class_1', 'class_2'], dtype='<U7')"
            ]
          },
          "metadata": {
            "tags": []
          },
          "execution_count": 4
        }
      ]
    },
    {
      "cell_type": "code",
      "metadata": {
        "id": "_CilzqC8uF8p",
        "colab_type": "code",
        "colab": {}
      },
      "source": [
        "df = X.join(pd.Series(y, name='class'))\n"
      ],
      "execution_count": 0,
      "outputs": []
    },
    {
      "cell_type": "markdown",
      "metadata": {
        "id": "YgWUCwwUuFHJ",
        "colab_type": "text"
      },
      "source": [
        "**Steps for LDA:**\n",
        "\n",
        "1)Compute the within class and between class scatter matrices\n",
        "\n",
        "2Compute the eigenvectors and corresponding eigenvalues for the scatter matrices\n",
        "\n",
        "3)Sort the eigenvalues and select the top k\n",
        "\n",
        "4)Create a new matrix containing eigenvectors that map to the k eigenvalues\n",
        "\n",
        "5)Obtain the new features (i.e. LDA components) by taking the dot product of the data and the matrix from step 4\n"
      ]
    },
    {
      "cell_type": "code",
      "metadata": {
        "id": "QqlwSj6QuH5o",
        "colab_type": "code",
        "colab": {
          "base_uri": "https://localhost:8080/",
          "height": 452
        },
        "outputId": "86fbdbea-0ec1-4b83-e026-ce47447e17ec"
      },
      "source": [
        "class_feature_means = pd.DataFrame(columns=wine.target_names)\n",
        "for c, rows in df.groupby('class'):\n",
        "    class_feature_means[c] = rows.mean()\n",
        "class_feature_means\n"
      ],
      "execution_count": 6,
      "outputs": [
        {
          "output_type": "execute_result",
          "data": {
            "text/html": [
              "<div>\n",
              "<style scoped>\n",
              "    .dataframe tbody tr th:only-of-type {\n",
              "        vertical-align: middle;\n",
              "    }\n",
              "\n",
              "    .dataframe tbody tr th {\n",
              "        vertical-align: top;\n",
              "    }\n",
              "\n",
              "    .dataframe thead th {\n",
              "        text-align: right;\n",
              "    }\n",
              "</style>\n",
              "<table border=\"1\" class=\"dataframe\">\n",
              "  <thead>\n",
              "    <tr style=\"text-align: right;\">\n",
              "      <th></th>\n",
              "      <th>class_0</th>\n",
              "      <th>class_1</th>\n",
              "      <th>class_2</th>\n",
              "    </tr>\n",
              "  </thead>\n",
              "  <tbody>\n",
              "    <tr>\n",
              "      <th>alcohol</th>\n",
              "      <td>13.744746</td>\n",
              "      <td>12.278732</td>\n",
              "      <td>13.153750</td>\n",
              "    </tr>\n",
              "    <tr>\n",
              "      <th>malic_acid</th>\n",
              "      <td>2.010678</td>\n",
              "      <td>1.932676</td>\n",
              "      <td>3.333750</td>\n",
              "    </tr>\n",
              "    <tr>\n",
              "      <th>ash</th>\n",
              "      <td>2.455593</td>\n",
              "      <td>2.244789</td>\n",
              "      <td>2.437083</td>\n",
              "    </tr>\n",
              "    <tr>\n",
              "      <th>alcalinity_of_ash</th>\n",
              "      <td>17.037288</td>\n",
              "      <td>20.238028</td>\n",
              "      <td>21.416667</td>\n",
              "    </tr>\n",
              "    <tr>\n",
              "      <th>magnesium</th>\n",
              "      <td>106.338983</td>\n",
              "      <td>94.549296</td>\n",
              "      <td>99.312500</td>\n",
              "    </tr>\n",
              "    <tr>\n",
              "      <th>total_phenols</th>\n",
              "      <td>2.840169</td>\n",
              "      <td>2.258873</td>\n",
              "      <td>1.678750</td>\n",
              "    </tr>\n",
              "    <tr>\n",
              "      <th>flavanoids</th>\n",
              "      <td>2.982373</td>\n",
              "      <td>2.080845</td>\n",
              "      <td>0.781458</td>\n",
              "    </tr>\n",
              "    <tr>\n",
              "      <th>nonflavanoid_phenols</th>\n",
              "      <td>0.290000</td>\n",
              "      <td>0.363662</td>\n",
              "      <td>0.447500</td>\n",
              "    </tr>\n",
              "    <tr>\n",
              "      <th>proanthocyanins</th>\n",
              "      <td>1.899322</td>\n",
              "      <td>1.630282</td>\n",
              "      <td>1.153542</td>\n",
              "    </tr>\n",
              "    <tr>\n",
              "      <th>color_intensity</th>\n",
              "      <td>5.528305</td>\n",
              "      <td>3.086620</td>\n",
              "      <td>7.396250</td>\n",
              "    </tr>\n",
              "    <tr>\n",
              "      <th>hue</th>\n",
              "      <td>1.062034</td>\n",
              "      <td>1.056282</td>\n",
              "      <td>0.682708</td>\n",
              "    </tr>\n",
              "    <tr>\n",
              "      <th>od280/od315_of_diluted_wines</th>\n",
              "      <td>3.157797</td>\n",
              "      <td>2.785352</td>\n",
              "      <td>1.683542</td>\n",
              "    </tr>\n",
              "    <tr>\n",
              "      <th>proline</th>\n",
              "      <td>1115.711864</td>\n",
              "      <td>519.507042</td>\n",
              "      <td>629.895833</td>\n",
              "    </tr>\n",
              "  </tbody>\n",
              "</table>\n",
              "</div>"
            ],
            "text/plain": [
              "                                  class_0     class_1     class_2\n",
              "alcohol                         13.744746   12.278732   13.153750\n",
              "malic_acid                       2.010678    1.932676    3.333750\n",
              "ash                              2.455593    2.244789    2.437083\n",
              "alcalinity_of_ash               17.037288   20.238028   21.416667\n",
              "magnesium                      106.338983   94.549296   99.312500\n",
              "total_phenols                    2.840169    2.258873    1.678750\n",
              "flavanoids                       2.982373    2.080845    0.781458\n",
              "nonflavanoid_phenols             0.290000    0.363662    0.447500\n",
              "proanthocyanins                  1.899322    1.630282    1.153542\n",
              "color_intensity                  5.528305    3.086620    7.396250\n",
              "hue                              1.062034    1.056282    0.682708\n",
              "od280/od315_of_diluted_wines     3.157797    2.785352    1.683542\n",
              "proline                       1115.711864  519.507042  629.895833"
            ]
          },
          "metadata": {
            "tags": []
          },
          "execution_count": 6
        }
      ]
    },
    {
      "cell_type": "code",
      "metadata": {
        "id": "gHnJ25w1u5d8",
        "colab_type": "code",
        "colab": {}
      },
      "source": [
        "within_class_scatter_matrix = np.zeros((13,13))\n",
        "for c, rows in df.groupby('class'):\n",
        "  rows = rows.drop(['class'], axis=1)\n",
        "    \n",
        "  s = np.zeros((13,13))\n",
        "for index, row in rows.iterrows():\n",
        "        x, mc = row.values.reshape(13,1), class_feature_means[c].values.reshape(13,1)\n",
        "        \n",
        "        s += (x - mc).dot((x - mc).T)\n",
        "    \n",
        "within_class_scatter_matrix += s\n"
      ],
      "execution_count": 0,
      "outputs": []
    },
    {
      "cell_type": "code",
      "metadata": {
        "id": "4Z6uVggBu51e",
        "colab_type": "code",
        "colab": {}
      },
      "source": [
        "feature_means = df.mean()\n",
        "between_class_scatter_matrix = np.zeros((13,13))\n",
        "for c in class_feature_means:    \n",
        "    n = len(df.loc[df['class'] == c].index)\n",
        "    \n",
        "    mc, m = class_feature_means[c].values.reshape(13,1), feature_means.values.reshape(13,1)\n",
        "    \n",
        "    between_class_scatter_matrix += n * (mc - m).dot((mc - m).T)\n"
      ],
      "execution_count": 0,
      "outputs": []
    },
    {
      "cell_type": "code",
      "metadata": {
        "id": "6_2_fqyUu6Rl",
        "colab_type": "code",
        "colab": {}
      },
      "source": [
        "eigen_values, eigen_vectors = np.linalg.eig(np.linalg.inv(within_class_scatter_matrix).dot(between_class_scatter_matrix))\n"
      ],
      "execution_count": 0,
      "outputs": []
    },
    {
      "cell_type": "code",
      "metadata": {
        "id": "CeM1mmfYu6up",
        "colab_type": "code",
        "colab": {
          "base_uri": "https://localhost:8080/",
          "height": 238
        },
        "outputId": "c75ddb94-9b57-47a9-870a-77f04243a11c"
      },
      "source": [
        "pairs = [(np.abs(eigen_values[i]), eigen_vectors[:,i]) for i in range(len(eigen_values))]\n",
        "pairs = sorted(pairs, key=lambda x: x[0], reverse=True)\n",
        "for pair in pairs:\n",
        "    print(pair[0])\n"
      ],
      "execution_count": 15,
      "outputs": [
        {
          "output_type": "stream",
          "text": [
            "237.46123198302251\n",
            "46.98285938758684\n",
            "1.4317197551638386e-14\n",
            "1.2141209883217706e-14\n",
            "1.2141209883217706e-14\n",
            "8.279823065850476e-15\n",
            "7.105427357601002e-15\n",
            "6.0293733655173466e-15\n",
            "6.0293733655173466e-15\n",
            "4.737608877108813e-15\n",
            "4.737608877108813e-15\n",
            "2.4737196789039026e-15\n",
            "9.84629525010022e-16\n"
          ],
          "name": "stdout"
        }
      ]
    },
    {
      "cell_type": "code",
      "metadata": {
        "id": "H_3XR_w-u_6D",
        "colab_type": "code",
        "colab": {
          "base_uri": "https://localhost:8080/",
          "height": 255
        },
        "outputId": "2b92435f-85b3-49d5-bde3-84364a93de76"
      },
      "source": [
        "eigen_value_sums = sum(eigen_values)\n",
        "print('Explained Variance')\n",
        "for i, pair in enumerate(pairs):\n",
        "    print('Eigenvector {}: {}'.format(i, (pair[0]/eigen_value_sums).real))\n"
      ],
      "execution_count": 16,
      "outputs": [
        {
          "output_type": "stream",
          "text": [
            "Explained Variance\n",
            "Eigenvector 0: 0.8348256799387275\n",
            "Eigenvector 1: 0.1651743200612724\n",
            "Eigenvector 2: 5.033396012077518e-17\n",
            "Eigenvector 3: 4.268399397827047e-17\n",
            "Eigenvector 4: 4.268399397827047e-17\n",
            "Eigenvector 5: 2.9108789097898625e-17\n",
            "Eigenvector 6: 2.498004906118145e-17\n",
            "Eigenvector 7: 2.119704204950956e-17\n",
            "Eigenvector 8: 2.119704204950956e-17\n",
            "Eigenvector 9: 1.665567688286435e-17\n",
            "Eigenvector 10: 1.665567688286435e-17\n",
            "Eigenvector 11: 8.696681541121664e-18\n",
            "Eigenvector 12: 3.4615924706522496e-18\n"
          ],
          "name": "stdout"
        }
      ]
    },
    {
      "cell_type": "markdown",
      "metadata": {
        "id": "3RgH8oQvuGao",
        "colab_type": "text"
      },
      "source": [
        "First, we create a matrix W with the first two eigenvectors.\n"
      ]
    },
    {
      "cell_type": "code",
      "metadata": {
        "id": "9yErTNTPu7KD",
        "colab_type": "code",
        "colab": {}
      },
      "source": [
        "w_matrix = np.hstack((pairs[0][1].reshape(13,1), pairs[1][1].reshape(13,1))).real\n"
      ],
      "execution_count": 0,
      "outputs": []
    },
    {
      "cell_type": "code",
      "metadata": {
        "id": "HtZ7aLSSvoFE",
        "colab_type": "code",
        "colab": {}
      },
      "source": [
        "X_lda = np.array(X.dot(w_matrix))\n",
        "le = LabelEncoder()\n",
        "y = le.fit_transform(df['class'])\n"
      ],
      "execution_count": 0,
      "outputs": []
    },
    {
      "cell_type": "code",
      "metadata": {
        "id": "F1Kv9IEMvotU",
        "colab_type": "code",
        "colab": {
          "base_uri": "https://localhost:8080/",
          "height": 302
        },
        "outputId": "d3773195-aabc-4ecb-fd4d-3e7d996408e2"
      },
      "source": [
        "plt.xlabel('LD1')\n",
        "plt.ylabel('LD2')\n",
        "plt.scatter(\n",
        "    X_lda[:,0],\n",
        "    X_lda[:,1],\n",
        "    c=y,\n",
        "    cmap='rainbow',\n",
        "    alpha=0.7,\n",
        "    edgecolors='b'\n",
        ")\n"
      ],
      "execution_count": 19,
      "outputs": [
        {
          "output_type": "execute_result",
          "data": {
            "text/plain": [
              "<matplotlib.collections.PathCollection at 0x7f41d1cd8f28>"
            ]
          },
          "metadata": {
            "tags": []
          },
          "execution_count": 19
        },
        {
          "output_type": "display_data",
          "data": {
            "image/png": "[encoded data removed]",
            "text/plain": [
              "<Figure size 432x288 with 1 Axes>"
            ]
          },
          "metadata": {
            "tags": [],
            "needs_background": "light"
          }
        }
      ]
    },
    {
      "cell_type": "code",
      "metadata": {
        "id": "teNRDDxbvpOn",
        "colab_type": "code",
        "colab": {}
      },
      "source": [
        "from sklearn.discriminant_analysis import LinearDiscriminantAnalysis\n",
        "lda = LinearDiscriminantAnalysis()\n",
        "X_lda = lda.fit_transform(X, y)"
      ],
      "execution_count": 0,
      "outputs": []
    },
    {
      "cell_type": "code",
      "metadata": {
        "id": "4zcUqM6Lxhes",
        "colab_type": "code",
        "colab": {
          "base_uri": "https://localhost:8080/",
          "height": 34
        },
        "outputId": "649eb129-3849-4a2e-d134-861abb5faf55"
      },
      "source": [
        "lda.explained_variance_ratio_\n"
      ],
      "execution_count": 21,
      "outputs": [
        {
          "output_type": "execute_result",
          "data": {
            "text/plain": [
              "array([0.6875, 0.3125])"
            ]
          },
          "metadata": {
            "tags": []
          },
          "execution_count": 21
        }
      ]
    },
    {
      "cell_type": "code",
      "metadata": {
        "id": "et_w9Wj3xiER",
        "colab_type": "code",
        "colab": {
          "base_uri": "https://localhost:8080/",
          "height": 302
        },
        "outputId": "4d430615-840c-4ea4-c8a4-88af0880bd5f"
      },
      "source": [
        "plt.xlabel('LD1')\n",
        "plt.ylabel('LD2')\n",
        "plt.scatter(\n",
        "    X_lda[:,0],\n",
        "    X_lda[:,1],\n",
        "    c=y,\n",
        "    cmap='rainbow',\n",
        "    alpha=0.7,\n",
        "    edgecolors='b'\n",
        ")\n"
      ],
      "execution_count": 22,
      "outputs": [
        {
          "output_type": "execute_result",
          "data": {
            "text/plain": [
              "<matplotlib.collections.PathCollection at 0x7f41d17cd438>"
            ]
          },
          "metadata": {
            "tags": []
          },
          "execution_count": 22
        },
        {
          "output_type": "display_data",
          "data": {
            "image/png": "[encoded data removed]",
            "text/plain": [
              "<Figure size 432x288 with 1 Axes>"
            ]
          },
          "metadata": {
            "tags": [],
            "needs_background": "light"
          }
        }
      ]
    },
    {
      "cell_type": "markdown",
      "metadata": {
        "id": "oFYvwM7_xtRr",
        "colab_type": "text"
      },
      "source": [
        "Credit:- Cory Maklin(towardsdtatscience)"
      ]
    }
  ]
}