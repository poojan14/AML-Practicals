{
  "nbformat": 4,
  "nbformat_minor": 0,
  "metadata": {
    "colab": {
      "name": "Practical_1.ipynb",
      "provenance": [],
      "collapsed_sections": [],
      "include_colab_link": true
    },
    "kernelspec": {
      "name": "python3",
      "display_name": "Python 3"
    }
  },
  "cells": [
    {
      "cell_type": "markdown",
      "metadata": {
        "id": "view-in-github",
        "colab_type": "text"
      },
      "source": [
        "<a href=\"https://colab.research.google.com/github/poojan14/AML-Practicals/blob/master/Practical_1.ipynb\" target=\"_parent\"><img src=\"https://colab.research.google.com/assets/colab-badge.svg\" alt=\"Open In Colab\"/></a>"
      ]
    },
    {
      "cell_type": "markdown",
      "metadata": {
        "id": "kfgRU95nDNeL",
        "colab_type": "text"
      },
      "source": [
        "**`Implementation  Python Data Structures as List, Arrays, Tuples, Sets, Dictionary.**"
      ]
    },
    {
      "cell_type": "markdown",
      "metadata": {
        "id": "nsIkdVqQ9ScA",
        "colab_type": "text"
      },
      "source": [
        "\n",
        "* Lists in Python are used to store collection of heterogeneous items. Lists are mutable."
      ]
    },
    {
      "cell_type": "code",
      "metadata": {
        "id": "XjC4eIQa8wRs",
        "colab_type": "code",
        "outputId": "d64dd933-e06b-4317-bd11-689d51982a11",
        "colab": {
          "base_uri": "https://localhost:8080/",
          "height": 34
        }
      },
      "source": [
        "x1 = [1,2,3]\n",
        "type(x1)\n"
      ],
      "execution_count": 0,
      "outputs": [
        {
          "output_type": "execute_result",
          "data": {
            "text/plain": [
              "list"
            ]
          },
          "metadata": {
            "tags": []
          },
          "execution_count": 57
        }
      ]
    },
    {
      "cell_type": "code",
      "metadata": {
        "id": "atgKA6G19nUz",
        "colab_type": "code",
        "outputId": "3a508936-6414-439e-d939-59888e0d2a4a",
        "colab": {
          "base_uri": "https://localhost:8080/",
          "height": 34
        }
      },
      "source": [
        "x2 = list([1,'apple',3])\n",
        "type(x2)"
      ],
      "execution_count": 0,
      "outputs": [
        {
          "output_type": "execute_result",
          "data": {
            "text/plain": [
              "list"
            ]
          },
          "metadata": {
            "tags": []
          },
          "execution_count": 58
        }
      ]
    },
    {
      "cell_type": "code",
      "metadata": {
        "id": "d3mNHELK9n7e",
        "colab_type": "code",
        "outputId": "a17f795c-b4c6-4bf9-d40d-af76a0b8829d",
        "colab": {
          "base_uri": "https://localhost:8080/",
          "height": 34
        }
      },
      "source": [
        "print(x2[1])\n"
      ],
      "execution_count": 0,
      "outputs": [
        {
          "output_type": "stream",
          "text": [
            "apple\n"
          ],
          "name": "stdout"
        }
      ]
    },
    {
      "cell_type": "code",
      "metadata": {
        "id": "IY8RX5f19o3c",
        "colab_type": "code",
        "outputId": "45be358c-b546-4521-ffe3-d86b0381c7de",
        "colab": {
          "base_uri": "https://localhost:8080/",
          "height": 34
        }
      },
      "source": [
        "x2[1] = 'orange'\n",
        "print(x2)\n"
      ],
      "execution_count": 0,
      "outputs": [
        {
          "output_type": "stream",
          "text": [
            "[1, 'orange', 3]\n"
          ],
          "name": "stdout"
        }
      ]
    },
    {
      "cell_type": "code",
      "metadata": {
        "id": "HtUIot_79pw0",
        "colab_type": "code",
        "outputId": "5a25b559-2189-4bd0-c284-a8de7cf0356c",
        "colab": {
          "base_uri": "https://localhost:8080/",
          "height": 34
        }
      },
      "source": [
        "list_num = [1,2,45,6,7,2,90,23,435]\n",
        "list_num.append(11) # Add 11 to the list, by default adds to the last position\n",
        "print(list_num)\n",
        "\n"
      ],
      "execution_count": 0,
      "outputs": [
        {
          "output_type": "stream",
          "text": [
            "[1, 2, 45, 6, 7, 2, 90, 23, 435, 11]\n"
          ],
          "name": "stdout"
        }
      ]
    },
    {
      "cell_type": "code",
      "metadata": {
        "id": "aVY_ArF79qNj",
        "colab_type": "code",
        "outputId": "c3b574ef-2476-4876-e94a-c913ccc2f09f",
        "colab": {
          "base_uri": "https://localhost:8080/",
          "height": 34
        }
      },
      "source": [
        "list_num.insert(0, 11)\n",
        "print(list_num)\n"
      ],
      "execution_count": 0,
      "outputs": [
        {
          "output_type": "stream",
          "text": [
            "[11, 1, 2, 45, 6, 7, 2, 90, 23, 435, 11]\n"
          ],
          "name": "stdout"
        }
      ]
    },
    {
      "cell_type": "code",
      "metadata": {
        "id": "930ganFX9rAK",
        "colab_type": "code",
        "outputId": "da515642-439f-47f8-9992-b4d70f8588f6",
        "colab": {
          "base_uri": "https://localhost:8080/",
          "height": 34
        }
      },
      "source": [
        "list_num.sort() # In-place sorting\n",
        "print(list_num)\n"
      ],
      "execution_count": 0,
      "outputs": [
        {
          "output_type": "stream",
          "text": [
            "[1, 2, 2, 6, 7, 11, 11, 23, 45, 90, 435]\n"
          ],
          "name": "stdout"
        }
      ]
    },
    {
      "cell_type": "code",
      "metadata": {
        "id": "DEZvSlGQ-mvw",
        "colab_type": "code",
        "outputId": "704674ff-cb46-4d9b-9fe3-8d7ab0b21d43",
        "colab": {
          "base_uri": "https://localhost:8080/",
          "height": 34
        }
      },
      "source": [
        "list.reverse(list_num)\n",
        "print(list_num)\n"
      ],
      "execution_count": 0,
      "outputs": [
        {
          "output_type": "stream",
          "text": [
            "[435, 90, 45, 23, 11, 11, 7, 6, 2, 2, 1]\n"
          ],
          "name": "stdout"
        }
      ]
    },
    {
      "cell_type": "code",
      "metadata": {
        "id": "w-y66VRQ-5j-",
        "colab_type": "code",
        "outputId": "c1b119ab-8a1d-4f18-84ef-955eca022949",
        "colab": {
          "base_uri": "https://localhost:8080/",
          "height": 34
        }
      },
      "source": [
        "import array as arr\n",
        "array_char = arr.array(\"u\",[\"c\",\"a\",\"t\",\"s\"])\n",
        "array_char.tostring()\n",
        "print(array_char)\n"
      ],
      "execution_count": 0,
      "outputs": [
        {
          "output_type": "stream",
          "text": [
            "array('u', 'cats')\n"
          ],
          "name": "stdout"
        }
      ]
    },
    {
      "cell_type": "code",
      "metadata": {
        "id": "vrIsfsgL-6U-",
        "colab_type": "code",
        "outputId": "20faaeb2-bb0e-4c4f-b3f6-679ea079c76e",
        "colab": {
          "base_uri": "https://localhost:8080/",
          "height": 34
        }
      },
      "source": [
        "import numpy as np\n",
        "\n",
        "arr_a = np.array([3, 6, 9])\n",
        "arr_b = arr_a/3 # Performing vectorized (element-wise) operations \n",
        "print(arr_b)\n"
      ],
      "execution_count": 0,
      "outputs": [
        {
          "output_type": "stream",
          "text": [
            "[1. 2. 3.]\n"
          ],
          "name": "stdout"
        }
      ]
    },
    {
      "cell_type": "code",
      "metadata": {
        "id": "1bd55hus-63-",
        "colab_type": "code",
        "outputId": "e37d08e6-cad1-4afa-ecc2-58c815552792",
        "colab": {
          "base_uri": "https://localhost:8080/",
          "height": 34
        }
      },
      "source": [
        "arr_ones = np.ones(4)\n",
        "print(arr_ones)\n"
      ],
      "execution_count": 0,
      "outputs": [
        {
          "output_type": "stream",
          "text": [
            "[1. 1. 1. 1.]\n"
          ],
          "name": "stdout"
        }
      ]
    },
    {
      "cell_type": "code",
      "metadata": {
        "id": "j0kpZrZT-7Yq",
        "colab_type": "code",
        "outputId": "55d33e3a-9af2-4c00-d99f-61a8615c6eb8",
        "colab": {
          "base_uri": "https://localhost:8080/",
          "height": 68
        }
      },
      "source": [
        "multi_arr_ones = np.ones((3,4)) # Creating 2D array with 3 rows and 4 columns\n",
        "print(multi_arr_ones)"
      ],
      "execution_count": 0,
      "outputs": [
        {
          "output_type": "stream",
          "text": [
            "[[1. 1. 1. 1.]\n",
            " [1. 1. 1. 1.]\n",
            " [1. 1. 1. 1.]]\n"
          ],
          "name": "stdout"
        }
      ]
    },
    {
      "cell_type": "markdown",
      "metadata": {
        "id": "HI0Wb1T8_7VX",
        "colab_type": "text"
      },
      "source": [
        "\n",
        "The difference between tuples and list is that tuples are immutable,once defined we cannot delete, add or edit.\n",
        "\n"
      ]
    },
    {
      "cell_type": "code",
      "metadata": {
        "id": "CmUxaZJY__Em",
        "colab_type": "code",
        "outputId": "0ebbbbbe-817f-494c-e328-855b826b52e1",
        "colab": {
          "base_uri": "https://localhost:8080/",
          "height": 34
        }
      },
      "source": [
        "x_tuple = 1,2,3,4,5\n",
        "x_tuple[0]"
      ],
      "execution_count": 0,
      "outputs": [
        {
          "output_type": "execute_result",
          "data": {
            "text/plain": [
              "1"
            ]
          },
          "metadata": {
            "tags": []
          },
          "execution_count": 69
        }
      ]
    },
    {
      "cell_type": "code",
      "metadata": {
        "id": "PofEXsb___jx",
        "colab_type": "code",
        "outputId": "e1b74c9a-b554-47ab-fcc7-32387059ddf5",
        "colab": {
          "base_uri": "https://localhost:8080/",
          "height": 180
        }
      },
      "source": [
        "x_tuple[0] = 0 # Cannot change values inside a tuple\n",
        "#Just proof"
      ],
      "execution_count": 0,
      "outputs": [
        {
          "output_type": "error",
          "ename": "TypeError",
          "evalue": "ignored",
          "traceback": [
            "\u001b[0;31m---------------------------------------------------------------------------\u001b[0m",
            "\u001b[0;31mTypeError\u001b[0m                                 Traceback (most recent call last)",
            "\u001b[0;32m<ipython-input-70-37eb950708ac>\u001b[0m in \u001b[0;36m<module>\u001b[0;34m()\u001b[0m\n\u001b[0;32m----> 1\u001b[0;31m \u001b[0mx_tuple\u001b[0m\u001b[0;34m[\u001b[0m\u001b[0;36m0\u001b[0m\u001b[0;34m]\u001b[0m \u001b[0;34m=\u001b[0m \u001b[0;36m0\u001b[0m \u001b[0;31m# Cannot change values inside a tuple\u001b[0m\u001b[0;34m\u001b[0m\u001b[0;34m\u001b[0m\u001b[0m\n\u001b[0m\u001b[1;32m      2\u001b[0m \u001b[0;31m#Just proof\u001b[0m\u001b[0;34m\u001b[0m\u001b[0;34m\u001b[0m\u001b[0;34m\u001b[0m\u001b[0m\n",
            "\u001b[0;31mTypeError\u001b[0m: 'tuple' object does not support item assignment"
          ]
        }
      ]
    },
    {
      "cell_type": "markdown",
      "metadata": {
        "id": "Lr6IlhODApcx",
        "colab_type": "text"
      },
      "source": [
        "\n",
        "*  Dictionaries are made up of key-value pairs. key is used to identify the item.\n",
        "\n",
        "\n"
      ]
    },
    {
      "cell_type": "code",
      "metadata": {
        "id": "pY6UTuCRAMRW",
        "colab_type": "code",
        "outputId": "6baf7ad3-eebb-48c4-daa1-469b5ec446f3",
        "colab": {
          "base_uri": "https://localhost:8080/",
          "height": 34
        }
      },
      "source": [
        "x_dict = {'Edward':1, 'Jorge':2, 'Prem':3, 'Joe':4}\n",
        "del x_dict['Joe']\n",
        "x_dict\n"
      ],
      "execution_count": 0,
      "outputs": [
        {
          "output_type": "execute_result",
          "data": {
            "text/plain": [
              "{'Edward': 1, 'Jorge': 2, 'Prem': 3}"
            ]
          },
          "metadata": {
            "tags": []
          },
          "execution_count": 71
        }
      ]
    },
    {
      "cell_type": "code",
      "metadata": {
        "id": "g63TQqoVAMuw",
        "colab_type": "code",
        "outputId": "afa77a49-07c2-4403-d4b7-510fea48c602",
        "colab": {
          "base_uri": "https://localhost:8080/",
          "height": 34
        }
      },
      "source": [
        "x_dict['Edward'] # Prints the value stored with the key 'Edward'.\n"
      ],
      "execution_count": 0,
      "outputs": [
        {
          "output_type": "execute_result",
          "data": {
            "text/plain": [
              "1"
            ]
          },
          "metadata": {
            "tags": []
          },
          "execution_count": 72
        }
      ]
    },
    {
      "cell_type": "code",
      "metadata": {
        "id": "stdiR2V3ANhL",
        "colab_type": "code",
        "outputId": "5e7c7b98-55c0-449e-b7bd-6f0ce6bf3c7a",
        "colab": {
          "base_uri": "https://localhost:8080/",
          "height": 34
        }
      },
      "source": [
        "len(x_dict)\n",
        "x_dict.keys()\n",
        "x_dict.values()\n"
      ],
      "execution_count": 0,
      "outputs": [
        {
          "output_type": "execute_result",
          "data": {
            "text/plain": [
              "dict_values([1, 2, 3])"
            ]
          },
          "metadata": {
            "tags": []
          },
          "execution_count": 73
        }
      ]
    },
    {
      "cell_type": "markdown",
      "metadata": {
        "id": "p51e30QYAz6F",
        "colab_type": "text"
      },
      "source": [
        "\n",
        "\n",
        "* Sets are a collection of distinct objects.It is an unordered collection but a mutable one."
      ]
    },
    {
      "cell_type": "code",
      "metadata": {
        "id": "xyWhv_IvA9wt",
        "colab_type": "code",
        "outputId": "4a775ece-988e-46da-f6fe-cbcd8a6e997c",
        "colab": {
          "base_uri": "https://localhost:8080/",
          "height": 34
        }
      },
      "source": [
        "x_set = set('CAKE&COKE')\n",
        "y_set = set('COOKIE')\n",
        "\n",
        "print(x_set)\n"
      ],
      "execution_count": 0,
      "outputs": [
        {
          "output_type": "stream",
          "text": [
            "{'O', 'C', 'K', '&', 'E', 'A'}\n"
          ],
          "name": "stdout"
        }
      ]
    },
    {
      "cell_type": "code",
      "metadata": {
        "id": "IKe9AbrDA-WQ",
        "colab_type": "code",
        "outputId": "d583fee8-dd5b-4aaf-b774-fbb9de016222",
        "colab": {
          "base_uri": "https://localhost:8080/",
          "height": 34
        }
      },
      "source": [
        "print(y_set) # Single unique 'o'\n"
      ],
      "execution_count": 0,
      "outputs": [
        {
          "output_type": "stream",
          "text": [
            "{'O', 'C', 'K', 'E', 'I'}\n"
          ],
          "name": "stdout"
        }
      ]
    },
    {
      "cell_type": "code",
      "metadata": {
        "id": "cBfJ8Ad2A_oe",
        "colab_type": "code",
        "outputId": "230e9046-4db5-4516-ee7b-801cc1877217",
        "colab": {
          "base_uri": "https://localhost:8080/",
          "height": 34
        }
      },
      "source": [
        "print(x_set|y_set) # Unique elements in x_set or y_set or both\n"
      ],
      "execution_count": 0,
      "outputs": [
        {
          "output_type": "stream",
          "text": [
            "{'O', 'C', 'K', '&', 'E', 'A', 'I'}\n"
          ],
          "name": "stdout"
        }
      ]
    },
    {
      "cell_type": "code",
      "metadata": {
        "id": "px-KtxMfBAIA",
        "colab_type": "code",
        "outputId": "b81af524-2e20-4bd2-9459-17141d1f23d1",
        "colab": {
          "base_uri": "https://localhost:8080/",
          "height": 34
        }
      },
      "source": [
        "print(x_set & y_set) # Elements in both x_set and y_set\n"
      ],
      "execution_count": 0,
      "outputs": [
        {
          "output_type": "stream",
          "text": [
            "{'O', 'C', 'K', 'E'}\n"
          ],
          "name": "stdout"
        }
      ]
    },
    {
      "cell_type": "markdown",
      "metadata": {
        "id": "Uhs2ZwqDx0fK",
        "colab_type": "text"
      },
      "source": [
        "## **Implementation of Python libraries Numpy, pandas, matplotlib.**"
      ]
    },
    {
      "cell_type": "code",
      "metadata": {
        "id": "zbI2uwOXyKIj",
        "colab_type": "code",
        "outputId": "aa031e6e-9dbe-4a88-fa91-43f47803e365",
        "colab": {
          "base_uri": "https://localhost:8080/",
          "height": 119
        }
      },
      "source": [
        "import numpy as np \n",
        "\n",
        "x = np.array([[1, 2], [3, 4]]) \n",
        "y = np.array([[5, 6], [7, 8]]) \n",
        "\n",
        "v = np.array([9, 10]) \n",
        "w = np.array([11, 12]) \n",
        "\n",
        "print(np.dot(v, w), \"\\n\") \n",
        "\n",
        "print(np.dot(x, v), \"\\n\") \n",
        "\n",
        "print(np.dot(x, y)) \n"
      ],
      "execution_count": 0,
      "outputs": [
        {
          "output_type": "stream",
          "text": [
            "219 \n",
            "\n",
            "[29 67] \n",
            "\n",
            "[[19 22]\n",
            " [43 50]]\n"
          ],
          "name": "stdout"
        }
      ]
    },
    {
      "cell_type": "code",
      "metadata": {
        "id": "NdU2RDI7yKzj",
        "colab_type": "code",
        "outputId": "711e82b4-3866-4dd1-b497-d80b79e51c62",
        "colab": {
          "base_uri": "https://localhost:8080/",
          "height": 255
        }
      },
      "source": [
        "import numpy as np\n",
        "arr1 = np.array([[4, 7], [2, 6]], \n",
        "                 dtype = np.float64)\n",
        "arr2 = np.array([[3, 6], [2, 8]], \n",
        "                 dtype = np.float64) \n",
        "Sum = np.add(arr1, arr2)\n",
        "print(\"Addition of Two Arrays: \")\n",
        "print(Sum)\n",
        " \n",
        "Sum1 = np.sum(arr1)\n",
        "print(\"\\nAddition of Array elements: \")\n",
        "print(Sum1)\n",
        " \n",
        "Sqrt = np.sqrt(arr1)\n",
        "print(\"\\nSquare root of Array1 elements: \")\n",
        "print(Sqrt)\n",
        " \n",
        "Trans_arr = arr1.T\n",
        "print(\"\\nTranspose of Array: \")\n",
        "print(Trans_arr)"
      ],
      "execution_count": 0,
      "outputs": [
        {
          "output_type": "stream",
          "text": [
            "Addition of Two Arrays: \n",
            "[[ 7. 13.]\n",
            " [ 4. 14.]]\n",
            "\n",
            "Addition of Array elements: \n",
            "19.0\n",
            "\n",
            "Square root of Array1 elements: \n",
            "[[2.         2.64575131]\n",
            " [1.41421356 2.44948974]]\n",
            "\n",
            "Transpose of Array: \n",
            "[[4. 2.]\n",
            " [7. 6.]]\n"
          ],
          "name": "stdout"
        }
      ]
    },
    {
      "cell_type": "code",
      "metadata": {
        "id": "NgqgGjWdyLX4",
        "colab_type": "code",
        "outputId": "0ef5ba60-f508-4363-e6cf-ef88be0da8cd",
        "colab": {
          "base_uri": "https://localhost:8080/",
          "height": 119
        }
      },
      "source": [
        "import pandas as pd \n",
        "  \n",
        "data = {\"country\": [\"Brazil\", \"Russia\", \"India\", \"China\", \"South Africa\"], \n",
        "       \"capital\": [\"Brasilia\", \"Moscow\", \"New Dehli\", \"Beijing\", \"Pretoria\"], \n",
        "       \"area\": [8.516, 17.10, 3.286, 9.597, 1.221], \n",
        "       \"population\": [200.4, 143.5, 1252, 1357, 52.98] } \n",
        "  \n",
        "data_table = pd.DataFrame(data) \n",
        "print(data_table) \n"
      ],
      "execution_count": 0,
      "outputs": [
        {
          "output_type": "stream",
          "text": [
            "        country    capital    area  population\n",
            "0        Brazil   Brasilia   8.516      200.40\n",
            "1        Russia     Moscow  17.100      143.50\n",
            "2         India  New Dehli   3.286     1252.00\n",
            "3         China    Beijing   9.597     1357.00\n",
            "4  South Africa   Pretoria   1.221       52.98\n"
          ],
          "name": "stdout"
        }
      ]
    },
    {
      "cell_type": "code",
      "metadata": {
        "id": "-x-aiRqVyMA8",
        "colab_type": "code",
        "outputId": "5178bd88-ea0e-463a-999f-18f574f0a3f1",
        "colab": {
          "base_uri": "https://localhost:8080/",
          "height": 173
        }
      },
      "source": [
        "import pandas as pd\n",
        " \n",
        "# importing numpy as np\n",
        "import numpy as np\n",
        " \n",
        "# dictionary of lists\n",
        "dict = {'First Score':[100, 90, np.nan, 95],\n",
        "        'Second Score': [30, 45, 56, np.nan],\n",
        "        'Third Score':[np.nan, 40, 80, 98]}\n",
        " \n",
        "# creating a dataframe from list\n",
        "df = pd.DataFrame(dict)\n",
        " \n",
        "# using isnull() function  \n",
        "df.isnull()"
      ],
      "execution_count": 0,
      "outputs": [
        {
          "output_type": "execute_result",
          "data": {
            "text/html": [
              "<div>\n",
              "<style scoped>\n",
              "    .dataframe tbody tr th:only-of-type {\n",
              "        vertical-align: middle;\n",
              "    }\n",
              "\n",
              "    .dataframe tbody tr th {\n",
              "        vertical-align: top;\n",
              "    }\n",
              "\n",
              "    .dataframe thead th {\n",
              "        text-align: right;\n",
              "    }\n",
              "</style>\n",
              "<table border=\"1\" class=\"dataframe\">\n",
              "  <thead>\n",
              "    <tr style=\"text-align: right;\">\n",
              "      <th></th>\n",
              "      <th>First Score</th>\n",
              "      <th>Second Score</th>\n",
              "      <th>Third Score</th>\n",
              "    </tr>\n",
              "  </thead>\n",
              "  <tbody>\n",
              "    <tr>\n",
              "      <th>0</th>\n",
              "      <td>False</td>\n",
              "      <td>False</td>\n",
              "      <td>True</td>\n",
              "    </tr>\n",
              "    <tr>\n",
              "      <th>1</th>\n",
              "      <td>False</td>\n",
              "      <td>False</td>\n",
              "      <td>False</td>\n",
              "    </tr>\n",
              "    <tr>\n",
              "      <th>2</th>\n",
              "      <td>True</td>\n",
              "      <td>False</td>\n",
              "      <td>False</td>\n",
              "    </tr>\n",
              "    <tr>\n",
              "      <th>3</th>\n",
              "      <td>False</td>\n",
              "      <td>True</td>\n",
              "      <td>False</td>\n",
              "    </tr>\n",
              "  </tbody>\n",
              "</table>\n",
              "</div>"
            ],
            "text/plain": [
              "   First Score  Second Score  Third Score\n",
              "0        False         False         True\n",
              "1        False         False        False\n",
              "2         True         False        False\n",
              "3        False          True        False"
            ]
          },
          "metadata": {
            "tags": []
          },
          "execution_count": 81
        }
      ]
    },
    {
      "cell_type": "code",
      "metadata": {
        "id": "PnoWm7elylk-",
        "colab_type": "code",
        "outputId": "1c923e54-cc40-4863-c2c0-9fc06e5f88d2",
        "colab": {
          "base_uri": "https://localhost:8080/",
          "height": 265
        }
      },
      "source": [
        "import matplotlib.pyplot as plt \n",
        "import numpy as np \n",
        "x = np.linspace(0, 10, 100) \n",
        "\n",
        "plt.plot(x, x, label ='linear') \n",
        "\n",
        "plt.legend() \n",
        "plt.show() \n"
      ],
      "execution_count": 0,
      "outputs": [
        {
          "output_type": "display_data",
          "data": {
            "image/png": "[encoded data removed]",
            "text/plain": [
              "<Figure size 432x288 with 1 Axes>"
            ]
          },
          "metadata": {
            "tags": [],
            "needs_background": "light"
          }
        }
      ]
    },
    {
      "cell_type": "code",
      "metadata": {
        "id": "I1IIkdplymej",
        "colab_type": "code",
        "colab": {}
      },
      "source": [
        "import numpy as np\n",
        "import pandas as pd\n",
        "import matplotlib\n",
        "matplotlib.use('Agg')\n",
        "import matplotlib.pyplot as plt\n",
        "%matplotlib inline"
      ],
      "execution_count": 0,
      "outputs": []
    },
    {
      "cell_type": "code",
      "metadata": {
        "id": "TIkfs3aFyv74",
        "colab_type": "code",
        "outputId": "1f6653c4-eee1-485b-d459-4d1396c1e6dd",
        "colab": {
          "base_uri": "https://localhost:8080/",
          "height": 282
        }
      },
      "source": [
        "df = pd.DataFrame({'a':[1,2,3,4,5,6,7],\n",
        "'b':[1,4,9,16,25,36,49]})\n",
        "df.plot()\n"
      ],
      "execution_count": 0,
      "outputs": [
        {
          "output_type": "execute_result",
          "data": {
            "text/plain": [
              "<matplotlib.axes._subplots.AxesSubplot at 0x7f38bd1d1ef0>"
            ]
          },
          "metadata": {
            "tags": []
          },
          "execution_count": 84
        },
        {
          "output_type": "display_data",
          "data": {
            "image/png": "[encoded data removed]",
            "text/plain": [
              "<Figure size 432x288 with 1 Axes>"
            ]
          },
          "metadata": {
            "tags": [],
            "needs_background": "light"
          }
        }
      ]
    },
    {
      "cell_type": "markdown",
      "metadata": {
        "id": "I0axoXXjyIYm",
        "colab_type": "text"
      },
      "source": [
        "Numpy provides a high-performance multidimensional array object and tools for working with these arrays. "
      ]
    },
    {
      "cell_type": "markdown",
      "metadata": {
        "id": "tfQTJoOi7wFx",
        "colab_type": "text"
      },
      "source": [
        "Pandas simplifies the loading of data from external sources such as text files & databases, as well as providing ways of analysing and manipulating data.\n"
      ]
    },
    {
      "cell_type": "markdown",
      "metadata": {
        "id": "oz6aH0WB7wxB",
        "colab_type": "text"
      },
      "source": [
        "Matlplolib is a Python package used for data plotting and visualisation."
      ]
    }
  ]
}